{
 "cells": [
  {
   "cell_type": "code",
   "execution_count": 3,
   "metadata": {
    "ExecuteTime": {
     "end_time": "2018-10-30T22:28:37.750961Z",
     "start_time": "2018-10-30T22:28:37.722472Z"
    }
   },
   "outputs": [],
   "source": [
    "import numpy as np\n",
    "import matplotlib.pyplot as plt\n",
    "import pandas as pd\n",
    "from keras.models import Sequential\n",
    "from keras.layers import Dense\n",
    "from keras.layers import LSTM\n",
    "from keras.layers import Dropout\n",
    "from sklearn.preprocessing import MinMaxScaler\n",
    "import quandl"
   ]
  },
  {
   "cell_type": "markdown",
   "metadata": {},
   "source": [
    "## Part 1 - Data Preprocessing\n",
    "\n",
    "- __Step 1__: Importing the training set<br>\n",
    ".\n",
    "- __Step 2__: Feature Scaling\n",
    "    - Normalizing data to be between 0 and 1\n",
    "    - To make process efficient, faster, and accurate\n",
    "    - Using Sigmoid activation\n",
    "\n",
    "- __Step 3__: Creating a data structure with 60 timesteps and 1 output\n",
    "    - Need to make prediction for last 60 days\n",
    "    - \n",
    "\n",
    "- __Step 4__: Reshaping data\n",
    "    - Reshaping data to make it 3D vector, since RNN doesn't accept 2D vectors"
   ]
  },
  {
   "cell_type": "code",
   "execution_count": null,
   "metadata": {},
   "outputs": [],
   "source": [
    "g_stocks = quandl.get()"
   ]
  },
  {
   "cell_type": "code",
   "execution_count": 67,
   "metadata": {
    "ExecuteTime": {
     "end_time": "2018-10-19T22:22:06.032714Z",
     "start_time": "2018-10-19T22:22:05.996713Z"
    }
   },
   "outputs": [],
   "source": [
    "df_train = pd.read_csv('Google_Stock_Price_Train.csv')\n",
    "train_set = df_train.iloc[:, 1:2].values"
   ]
  },
  {
   "cell_type": "code",
   "execution_count": 68,
   "metadata": {
    "ExecuteTime": {
     "end_time": "2018-10-19T22:22:06.201947Z",
     "start_time": "2018-10-19T22:22:06.137138Z"
    },
    "scrolled": true
   },
   "outputs": [
    {
     "name": "stdout",
     "output_type": "stream",
     "text": [
      "       Date    Open    High     Low   Close      Volume\n",
      "0  1/3/2012  325.25  332.83  324.97  663.59   7,380,500\n",
      "1  1/4/2012  331.27  333.87  329.08  666.45   5,749,400\n",
      "2  1/5/2012  329.83  330.75  326.89  657.21   6,590,300\n",
      "3  1/6/2012  328.34  328.77  323.68  648.24   5,405,900\n",
      "4  1/9/2012  322.04  322.29  309.46  620.76  11,688,800     \n",
      "-------------------------------------------------------\n",
      "<class 'pandas.core.frame.DataFrame'>\n",
      "RangeIndex: 1258 entries, 0 to 1257\n",
      "Data columns (total 6 columns):\n",
      "Date      1258 non-null object\n",
      "Open      1258 non-null float64\n",
      "High      1258 non-null float64\n",
      "Low       1258 non-null float64\n",
      "Close     1258 non-null object\n",
      "Volume    1258 non-null object\n",
      "dtypes: float64(3), object(3)\n",
      "memory usage: 59.0+ KB\n",
      "None     \n",
      "-------------------------------------------------------\n",
      "              Open         High          Low\n",
      "count  1258.000000  1258.000000  1258.000000\n",
      "mean    533.709833   537.880223   529.007409\n",
      "std     151.904442   153.008811   150.552807\n",
      "min     279.120000   281.210000   277.220000\n",
      "25%     404.115000   406.765000   401.765000\n",
      "50%     537.470000   540.750000   532.990000\n",
      "75%     654.922500   662.587500   644.800000\n",
      "max     816.680000   816.680000   805.140000\n"
     ]
    }
   ],
   "source": [
    "print(f'{df_train.head()} \\\n",
    "    \\n-------------------------------------------------------')\n",
    "\n",
    "print(f'{df_train.info()} \\\n",
    "    \\n-------------------------------------------------------')\n",
    "print(df_train.describe())"
   ]
  },
  {
   "cell_type": "code",
   "execution_count": 69,
   "metadata": {
    "ExecuteTime": {
     "end_time": "2018-10-19T22:22:06.329040Z",
     "start_time": "2018-10-19T22:22:06.297755Z"
    }
   },
   "outputs": [],
   "source": [
    "sc = MinMaxScaler(feature_range=(0, 1))\n",
    "train_set = sc.fit_transform(train_set)"
   ]
  },
  {
   "cell_type": "code",
   "execution_count": 70,
   "metadata": {
    "ExecuteTime": {
     "end_time": "2018-10-19T22:22:06.475080Z",
     "start_time": "2018-10-19T22:22:06.437434Z"
    }
   },
   "outputs": [
    {
     "data": {
      "text/plain": [
       "array([0.00186026])"
      ]
     },
     "execution_count": 70,
     "metadata": {},
     "output_type": "execute_result"
    }
   ],
   "source": [
    "sc.scale_"
   ]
  },
  {
   "cell_type": "code",
   "execution_count": 71,
   "metadata": {
    "ExecuteTime": {
     "end_time": "2018-10-19T22:22:06.609046Z",
     "start_time": "2018-10-19T22:22:06.576408Z"
    }
   },
   "outputs": [
    {
     "data": {
      "text/plain": [
       "array([[0.08581368],\n",
       "       [0.09701243],\n",
       "       [0.09433366],\n",
       "       ...,\n",
       "       [0.95725128],\n",
       "       [0.93796041],\n",
       "       [0.93688146]])"
      ]
     },
     "execution_count": 71,
     "metadata": {},
     "output_type": "execute_result"
    }
   ],
   "source": [
    "train_set"
   ]
  },
  {
   "cell_type": "code",
   "execution_count": 72,
   "metadata": {
    "ExecuteTime": {
     "end_time": "2018-10-19T22:22:06.757752Z",
     "start_time": "2018-10-19T22:22:06.722274Z"
    },
    "scrolled": true
   },
   "outputs": [
    {
     "data": {
      "text/plain": [
       "(1258, 1)"
      ]
     },
     "execution_count": 72,
     "metadata": {},
     "output_type": "execute_result"
    }
   ],
   "source": [
    "train_set.shape"
   ]
  },
  {
   "cell_type": "code",
   "execution_count": 73,
   "metadata": {
    "ExecuteTime": {
     "end_time": "2018-10-19T22:22:06.890670Z",
     "start_time": "2018-10-19T22:22:06.858517Z"
    }
   },
   "outputs": [],
   "source": [
    "X_train = train_set[0:1257]\n",
    "y_train = train_set[1:1258]"
   ]
  },
  {
   "cell_type": "code",
   "execution_count": 74,
   "metadata": {
    "ExecuteTime": {
     "end_time": "2018-10-19T22:22:07.025692Z",
     "start_time": "2018-10-19T22:22:06.991795Z"
    }
   },
   "outputs": [
    {
     "data": {
      "text/plain": [
       "(1257, 1)"
      ]
     },
     "execution_count": 74,
     "metadata": {},
     "output_type": "execute_result"
    }
   ],
   "source": [
    "X_train.shape"
   ]
  },
  {
   "cell_type": "code",
   "execution_count": 75,
   "metadata": {
    "ExecuteTime": {
     "end_time": "2018-10-19T22:22:07.167971Z",
     "start_time": "2018-10-19T22:22:07.137793Z"
    }
   },
   "outputs": [],
   "source": [
    "X_train = np.reshape(X_train, (1257, 1, 1))"
   ]
  },
  {
   "cell_type": "code",
   "execution_count": 76,
   "metadata": {
    "ExecuteTime": {
     "end_time": "2018-10-19T22:22:07.292232Z",
     "start_time": "2018-10-19T22:22:07.259579Z"
    }
   },
   "outputs": [
    {
     "data": {
      "text/plain": [
       "(1257, 1, 1)"
      ]
     },
     "execution_count": 76,
     "metadata": {},
     "output_type": "execute_result"
    }
   ],
   "source": [
    "X_train.shape"
   ]
  },
  {
   "cell_type": "code",
   "execution_count": 77,
   "metadata": {
    "ExecuteTime": {
     "end_time": "2018-10-19T22:22:07.434489Z",
     "start_time": "2018-10-19T22:22:07.403843Z"
    }
   },
   "outputs": [],
   "source": [
    "# X_train = []\n",
    "# y_train = []\n",
    "# for i in range(60, 1258):\n",
    "#     X_train.append(train_set_scaled[i-60:i, 0])\n",
    "#     y_train.append(train_set_scaled[i, 0])\n",
    "# X_train, y_train = np.array(X_train), np.array(y_train)"
   ]
  },
  {
   "cell_type": "code",
   "execution_count": 78,
   "metadata": {
    "ExecuteTime": {
     "end_time": "2018-10-19T22:22:07.564521Z",
     "start_time": "2018-10-19T22:22:07.535071Z"
    }
   },
   "outputs": [],
   "source": [
    "# X_train = np.reshape(X_train, (X_train.shape[0], X_train.shape[1], 1))"
   ]
  },
  {
   "cell_type": "markdown",
   "metadata": {},
   "source": [
    "## Part 2 - Building the RNN\n",
    "\n",
    "- __Step 1__: Initialising the RNN\n",
    "    - Using Sequential since RNN goes in a sequence    \n",
    "- __Step 2__: Adding the first LSTM layer and some Dropout regularisation\n",
    "- __Step 3__: Adding a second LSTM layer and some Dropout regularisation\n",
    "- __Step 4__: Adding a third LSTM layer and some Dropout regularisation\n",
    "- __Step 5__: Adding a fourth LSTM layer and some Dropout regularisation\n",
    "- __Step 6__: Adding the output layer\n",
    "- __Step 7__: Compiling the RNN\n",
    "- __Step 8__: Fitting the RNN to the Training set"
   ]
  },
  {
   "cell_type": "code",
   "execution_count": 79,
   "metadata": {
    "ExecuteTime": {
     "end_time": "2018-10-19T22:22:07.838700Z",
     "start_time": "2018-10-19T22:22:07.807503Z"
    }
   },
   "outputs": [],
   "source": [
    "def regressor_creation():\n",
    "    regressor = Sequential()\n",
    "    regressor.add(LSTM(units=4, \n",
    "                       activation='sigmoid', \n",
    "                       input_shape=(None, 1)))\n",
    "    regressor.add(Dense(units=1))\n",
    "#                        return_sequences=True,\n",
    "#                        input_shape=(X_train.shape[1], 1)))\n",
    "#     regressor.add(Dropout(0.2))\n",
    "#     regressor.add(LSTM(units=50, return_sequences=True))\n",
    "#     regressor.add(Dropout(0.2))\n",
    "#     regressor.add(LSTM(units=50, return_sequences=True))\n",
    "#     regressor.add(Dropout(0.2))\n",
    "#     regressor.add(LSTM(units=50))\n",
    "#     regressor.add(Dropout(0.2))\n",
    "#     regressor.add(Dense(units=1))\n",
    "    regressor.compile(optimizer='rmsprop', loss='mean_squared_error')\n",
    "    return regressor"
   ]
  },
  {
   "cell_type": "code",
   "execution_count": 80,
   "metadata": {
    "ExecuteTime": {
     "end_time": "2018-10-19T22:22:08.368513Z",
     "start_time": "2018-10-19T22:22:07.936758Z"
    }
   },
   "outputs": [],
   "source": [
    "regressor = regressor_creation()"
   ]
  },
  {
   "cell_type": "code",
   "execution_count": 81,
   "metadata": {
    "ExecuteTime": {
     "end_time": "2018-10-19T22:22:47.522834Z",
     "start_time": "2018-10-19T22:22:08.373822Z"
    },
    "scrolled": true
   },
   "outputs": [
    {
     "name": "stdout",
     "output_type": "stream",
     "text": [
      "Epoch 1/200\n",
      "1257/1257 [==============================] - 1s 1ms/step - loss: 0.0943\n",
      "Epoch 2/200\n",
      "1257/1257 [==============================] - 0s 127us/step - loss: 0.0814\n",
      "Epoch 3/200\n",
      "1257/1257 [==============================] - 0s 141us/step - loss: 0.0773\n",
      "Epoch 4/200\n",
      "1257/1257 [==============================] - 0s 152us/step - loss: 0.0752\n",
      "Epoch 5/200\n",
      "1257/1257 [==============================] - 0s 143us/step - loss: 0.0732\n",
      "Epoch 6/200\n",
      "1257/1257 [==============================] - 0s 150us/step - loss: 0.0714\n",
      "Epoch 7/200\n",
      "1257/1257 [==============================] - 0s 154us/step - loss: 0.0695\n",
      "Epoch 8/200\n",
      "1257/1257 [==============================] - 0s 148us/step - loss: 0.0676\n",
      "Epoch 9/200\n",
      "1257/1257 [==============================] - 0s 146us/step - loss: 0.0657\n",
      "Epoch 10/200\n",
      "1257/1257 [==============================] - 0s 152us/step - loss: 0.0638\n",
      "Epoch 11/200\n",
      "1257/1257 [==============================] - 0s 152us/step - loss: 0.0620\n",
      "Epoch 12/200\n",
      "1257/1257 [==============================] - 0s 120us/step - loss: 0.0600\n",
      "Epoch 13/200\n",
      "1257/1257 [==============================] - 0s 120us/step - loss: 0.0581\n",
      "Epoch 14/200\n",
      "1257/1257 [==============================] - 0s 127us/step - loss: 0.0562\n",
      "Epoch 15/200\n",
      "1257/1257 [==============================] - 0s 126us/step - loss: 0.0545\n",
      "Epoch 16/200\n",
      "1257/1257 [==============================] - 0s 131us/step - loss: 0.0526\n",
      "Epoch 17/200\n",
      "1257/1257 [==============================] - 0s 130us/step - loss: 0.0506\n",
      "Epoch 18/200\n",
      "1257/1257 [==============================] - 0s 166us/step - loss: 0.0486\n",
      "Epoch 19/200\n",
      "1257/1257 [==============================] - 0s 153us/step - loss: 0.0467\n",
      "Epoch 20/200\n",
      "1257/1257 [==============================] - 0s 127us/step - loss: 0.0447\n",
      "Epoch 21/200\n",
      "1257/1257 [==============================] - 0s 136us/step - loss: 0.0428\n",
      "Epoch 22/200\n",
      "1257/1257 [==============================] - 0s 138us/step - loss: 0.0410\n",
      "Epoch 23/200\n",
      "1257/1257 [==============================] - 0s 129us/step - loss: 0.0390\n",
      "Epoch 24/200\n",
      "1257/1257 [==============================] - 0s 124us/step - loss: 0.0370\n",
      "Epoch 25/200\n",
      "1257/1257 [==============================] - 0s 132us/step - loss: 0.0351\n",
      "Epoch 26/200\n",
      "1257/1257 [==============================] - 0s 131us/step - loss: 0.0332\n",
      "Epoch 27/200\n",
      "1257/1257 [==============================] - 0s 146us/step - loss: 0.0312\n",
      "Epoch 28/200\n",
      "1257/1257 [==============================] - 0s 166us/step - loss: 0.0293\n",
      "Epoch 29/200\n",
      "1257/1257 [==============================] - 0s 151us/step - loss: 0.0273\n",
      "Epoch 30/200\n",
      "1257/1257 [==============================] - 0s 126us/step - loss: 0.0253\n",
      "Epoch 31/200\n",
      "1257/1257 [==============================] - 0s 134us/step - loss: 0.0235\n",
      "Epoch 32/200\n",
      "1257/1257 [==============================] - 0s 133us/step - loss: 0.0214\n",
      "Epoch 33/200\n",
      "1257/1257 [==============================] - 0s 150us/step - loss: 0.0195\n",
      "Epoch 34/200\n",
      "1257/1257 [==============================] - 0s 132us/step - loss: 0.0177\n",
      "Epoch 35/200\n",
      "1257/1257 [==============================] - 0s 132us/step - loss: 0.0160\n",
      "Epoch 36/200\n",
      "1257/1257 [==============================] - 0s 135us/step - loss: 0.0143\n",
      "Epoch 37/200\n",
      "1257/1257 [==============================] - 0s 169us/step - loss: 0.0127\n",
      "Epoch 38/200\n",
      "1257/1257 [==============================] - 0s 163us/step - loss: 0.0110\n",
      "Epoch 39/200\n",
      "1257/1257 [==============================] - 0s 140us/step - loss: 0.0095\n",
      "Epoch 40/200\n",
      "1257/1257 [==============================] - 0s 143us/step - loss: 0.0079\n",
      "Epoch 41/200\n",
      "1257/1257 [==============================] - 0s 135us/step - loss: 0.0067\n",
      "Epoch 42/200\n",
      "1257/1257 [==============================] - 0s 126us/step - loss: 0.0054\n",
      "Epoch 43/200\n",
      "1257/1257 [==============================] - 0s 122us/step - loss: 0.0042\n",
      "Epoch 44/200\n",
      "1257/1257 [==============================] - 0s 134us/step - loss: 0.0033\n",
      "Epoch 45/200\n",
      "1257/1257 [==============================] - 0s 141us/step - loss: 0.0024\n",
      "Epoch 46/200\n",
      "1257/1257 [==============================] - 0s 147us/step - loss: 0.0016\n",
      "Epoch 47/200\n",
      "1257/1257 [==============================] - 0s 142us/step - loss: 0.0011\n",
      "Epoch 48/200\n",
      "1257/1257 [==============================] - 0s 145us/step - loss: 7.4420e-04\n",
      "Epoch 49/200\n",
      "1257/1257 [==============================] - 0s 149us/step - loss: 5.2700e-04\n",
      "Epoch 50/200\n",
      "1257/1257 [==============================] - 0s 138us/step - loss: 4.2640e-04\n",
      "Epoch 51/200\n",
      "1257/1257 [==============================] - 0s 138us/step - loss: 3.7901e-04\n",
      "Epoch 52/200\n",
      "1257/1257 [==============================] - 0s 142us/step - loss: 3.5909e-04\n",
      "Epoch 53/200\n",
      "1257/1257 [==============================] - 0s 141us/step - loss: 3.4672e-04\n",
      "Epoch 54/200\n",
      "1257/1257 [==============================] - 0s 125us/step - loss: 3.3439e-04\n",
      "Epoch 55/200\n",
      "1257/1257 [==============================] - 0s 141us/step - loss: 3.2432e-04\n",
      "Epoch 56/200\n",
      "1257/1257 [==============================] - 0s 135us/step - loss: 3.1999e-04\n",
      "Epoch 57/200\n",
      "1257/1257 [==============================] - 0s 161us/step - loss: 3.0911e-04\n",
      "Epoch 58/200\n",
      "1257/1257 [==============================] - 0s 150us/step - loss: 3.0158e-04\n",
      "Epoch 59/200\n",
      "1257/1257 [==============================] - 0s 149us/step - loss: 2.9986e-04\n",
      "Epoch 60/200\n",
      "1257/1257 [==============================] - 0s 128us/step - loss: 2.9141e-04\n",
      "Epoch 61/200\n",
      "1257/1257 [==============================] - 0s 147us/step - loss: 2.8994e-04\n",
      "Epoch 62/200\n",
      "1257/1257 [==============================] - 0s 135us/step - loss: 2.8290e-04\n",
      "Epoch 63/200\n",
      "1257/1257 [==============================] - 0s 185us/step - loss: 2.8264e-04\n",
      "Epoch 64/200\n",
      "1257/1257 [==============================] - 0s 151us/step - loss: 2.8005e-04\n",
      "Epoch 65/200\n",
      "1257/1257 [==============================] - 0s 169us/step - loss: 2.8063e-04\n",
      "Epoch 66/200\n",
      "1257/1257 [==============================] - 0s 156us/step - loss: 2.8011e-04\n",
      "Epoch 67/200\n",
      "1257/1257 [==============================] - 0s 133us/step - loss: 2.7818e-04\n",
      "Epoch 68/200\n",
      "1257/1257 [==============================] - 0s 135us/step - loss: 2.7407e-04\n",
      "Epoch 69/200\n",
      "1257/1257 [==============================] - 0s 134us/step - loss: 2.7333e-04\n",
      "Epoch 70/200\n",
      "1257/1257 [==============================] - 0s 116us/step - loss: 2.7232e-04\n",
      "Epoch 71/200\n",
      "1257/1257 [==============================] - 0s 132us/step - loss: 2.6996e-04\n",
      "Epoch 72/200\n",
      "1257/1257 [==============================] - 0s 150us/step - loss: 2.7093e-04\n",
      "Epoch 73/200\n",
      "1257/1257 [==============================] - 0s 128us/step - loss: 2.6935e-04\n",
      "Epoch 74/200\n",
      "1257/1257 [==============================] - 0s 142us/step - loss: 2.6721e-04\n",
      "Epoch 75/200\n",
      "1257/1257 [==============================] - 0s 177us/step - loss: 2.6669e-04\n",
      "Epoch 76/200\n",
      "1257/1257 [==============================] - 0s 160us/step - loss: 2.6423e-04\n",
      "Epoch 77/200\n",
      "1257/1257 [==============================] - 0s 131us/step - loss: 2.6557e-04\n",
      "Epoch 78/200\n",
      "1257/1257 [==============================] - 0s 128us/step - loss: 2.6488e-04\n",
      "Epoch 79/200\n",
      "1257/1257 [==============================] - 0s 142us/step - loss: 2.6215e-04\n",
      "Epoch 80/200\n",
      "1257/1257 [==============================] - 0s 120us/step - loss: 2.6047e-04\n",
      "Epoch 81/200\n",
      "1257/1257 [==============================] - 0s 134us/step - loss: 2.5994e-04\n",
      "Epoch 82/200\n",
      "1257/1257 [==============================] - 0s 138us/step - loss: 2.5831e-04\n",
      "Epoch 83/200\n",
      "1257/1257 [==============================] - 0s 139us/step - loss: 2.5942e-04\n",
      "Epoch 84/200\n",
      "1257/1257 [==============================] - 0s 131us/step - loss: 2.6056e-04\n",
      "Epoch 85/200\n",
      "1257/1257 [==============================] - 0s 153us/step - loss: 2.6024e-04\n",
      "Epoch 86/200\n",
      "1257/1257 [==============================] - 0s 126us/step - loss: 2.6157e-04\n",
      "Epoch 87/200\n",
      "1257/1257 [==============================] - 0s 149us/step - loss: 2.5823e-04\n",
      "Epoch 88/200\n",
      "1257/1257 [==============================] - 0s 124us/step - loss: 2.5936e-04\n",
      "Epoch 89/200\n",
      "1257/1257 [==============================] - 0s 169us/step - loss: 2.5935e-04\n",
      "Epoch 90/200\n",
      "1257/1257 [==============================] - 0s 168us/step - loss: 2.5657e-04\n",
      "Epoch 91/200\n",
      "1257/1257 [==============================] - 0s 160us/step - loss: 2.5801e-04\n",
      "Epoch 92/200\n",
      "1257/1257 [==============================] - 0s 139us/step - loss: 2.5665e-04\n",
      "Epoch 93/200\n",
      "1257/1257 [==============================] - 0s 139us/step - loss: 2.5465e-04\n",
      "Epoch 94/200\n",
      "1257/1257 [==============================] - 0s 143us/step - loss: 2.5540e-04\n",
      "Epoch 95/200\n",
      "1257/1257 [==============================] - 0s 183us/step - loss: 2.5731e-04\n",
      "Epoch 96/200\n",
      "1257/1257 [==============================] - 0s 128us/step - loss: 2.5469e-04\n",
      "Epoch 97/200\n",
      "1257/1257 [==============================] - 0s 127us/step - loss: 2.5374e-04\n",
      "Epoch 98/200\n",
      "1257/1257 [==============================] - 0s 124us/step - loss: 2.5404e-04\n",
      "Epoch 99/200\n",
      "1257/1257 [==============================] - 0s 130us/step - loss: 2.5767e-04\n",
      "Epoch 100/200\n",
      "1257/1257 [==============================] - 0s 117us/step - loss: 2.5503e-04\n",
      "Epoch 101/200\n",
      "1257/1257 [==============================] - 0s 118us/step - loss: 2.5394e-04\n",
      "Epoch 102/200\n",
      "1257/1257 [==============================] - 0s 144us/step - loss: 2.5710e-04\n",
      "Epoch 103/200\n",
      "1257/1257 [==============================] - 0s 161us/step - loss: 2.5279e-04\n",
      "Epoch 104/200\n",
      "1257/1257 [==============================] - 0s 153us/step - loss: 2.5447e-04\n",
      "Epoch 105/200\n",
      "1257/1257 [==============================] - 0s 125us/step - loss: 2.5678e-04\n",
      "Epoch 106/200\n",
      "1257/1257 [==============================] - 0s 130us/step - loss: 2.5325e-04\n",
      "Epoch 107/200\n",
      "1257/1257 [==============================] - 0s 121us/step - loss: 2.5256e-04\n",
      "Epoch 108/200\n",
      "1257/1257 [==============================] - 0s 152us/step - loss: 2.5491e-04\n",
      "Epoch 109/200\n",
      "1257/1257 [==============================] - 0s 152us/step - loss: 2.5103e-04\n",
      "Epoch 110/200\n",
      "1257/1257 [==============================] - 0s 140us/step - loss: 2.5270e-04\n",
      "Epoch 111/200\n",
      "1257/1257 [==============================] - 0s 140us/step - loss: 2.5232e-04\n",
      "Epoch 112/200\n",
      "1257/1257 [==============================] - 0s 140us/step - loss: 2.5508e-04\n",
      "Epoch 113/200\n",
      "1257/1257 [==============================] - 0s 156us/step - loss: 2.5017e-04\n",
      "Epoch 114/200\n",
      "1257/1257 [==============================] - 0s 156us/step - loss: 2.5487e-04\n",
      "Epoch 115/200\n",
      "1257/1257 [==============================] - 0s 139us/step - loss: 2.5207e-04\n",
      "Epoch 116/200\n",
      "1257/1257 [==============================] - 0s 139us/step - loss: 2.4967e-04\n",
      "Epoch 117/200\n",
      "1257/1257 [==============================] - 0s 148us/step - loss: 2.5782e-04\n",
      "Epoch 118/200\n",
      "1257/1257 [==============================] - 0s 182us/step - loss: 2.5082e-04\n",
      "Epoch 119/200\n",
      "1257/1257 [==============================] - 0s 149us/step - loss: 2.4927e-04\n",
      "Epoch 120/200\n",
      "1257/1257 [==============================] - 0s 131us/step - loss: 2.5574e-04\n",
      "Epoch 121/200\n",
      "1257/1257 [==============================] - 0s 142us/step - loss: 2.5251e-04\n",
      "Epoch 122/200\n",
      "1257/1257 [==============================] - 0s 142us/step - loss: 2.5000e-04\n",
      "Epoch 123/200\n",
      "1257/1257 [==============================] - 0s 160us/step - loss: 2.5308e-04\n",
      "Epoch 124/200\n",
      "1257/1257 [==============================] - 0s 153us/step - loss: 2.5078e-04\n",
      "Epoch 125/200\n",
      "1257/1257 [==============================] - 0s 128us/step - loss: 2.5226e-04\n",
      "Epoch 126/200\n",
      "1257/1257 [==============================] - 0s 154us/step - loss: 2.5346e-04\n",
      "Epoch 127/200\n",
      "1257/1257 [==============================] - 0s 174us/step - loss: 2.5132e-04\n",
      "Epoch 128/200\n",
      "1257/1257 [==============================] - 0s 125us/step - loss: 2.5136e-04\n",
      "Epoch 129/200\n",
      "1257/1257 [==============================] - 0s 136us/step - loss: 2.5270e-04\n",
      "Epoch 130/200\n",
      "1257/1257 [==============================] - 0s 146us/step - loss: 2.5208e-04\n",
      "Epoch 131/200\n",
      "1257/1257 [==============================] - 0s 160us/step - loss: 2.4966e-04\n",
      "Epoch 132/200\n",
      "1257/1257 [==============================] - 0s 151us/step - loss: 2.5087e-04\n",
      "Epoch 133/200\n",
      "1257/1257 [==============================] - 0s 134us/step - loss: 2.5370e-04\n",
      "Epoch 134/200\n",
      "1257/1257 [==============================] - 0s 146us/step - loss: 2.5379e-04\n",
      "Epoch 135/200\n",
      "1257/1257 [==============================] - 0s 157us/step - loss: 2.5047e-04\n",
      "Epoch 136/200\n",
      "1257/1257 [==============================] - 0s 153us/step - loss: 2.5211e-04\n",
      "Epoch 137/200\n",
      "1257/1257 [==============================] - 0s 137us/step - loss: 2.4886e-04\n",
      "Epoch 138/200\n",
      "1257/1257 [==============================] - 0s 147us/step - loss: 2.5065e-04\n",
      "Epoch 139/200\n",
      "1257/1257 [==============================] - 0s 148us/step - loss: 2.5090e-04\n",
      "Epoch 140/200\n",
      "1257/1257 [==============================] - 0s 169us/step - loss: 2.5183e-04\n",
      "Epoch 141/200\n",
      "1257/1257 [==============================] - 0s 144us/step - loss: 2.5250e-04\n",
      "Epoch 142/200\n",
      "1257/1257 [==============================] - 0s 153us/step - loss: 2.5210e-04\n",
      "Epoch 143/200\n",
      "1257/1257 [==============================] - 0s 146us/step - loss: 2.5124e-04\n",
      "Epoch 144/200\n",
      "1257/1257 [==============================] - 0s 170us/step - loss: 2.5116e-04\n",
      "Epoch 145/200\n",
      "1257/1257 [==============================] - 0s 161us/step - loss: 2.4746e-04\n",
      "Epoch 146/200\n",
      "1257/1257 [==============================] - 0s 144us/step - loss: 2.5283e-04\n",
      "Epoch 147/200\n",
      "1257/1257 [==============================] - 0s 149us/step - loss: 2.5094e-04\n",
      "Epoch 148/200\n",
      "1257/1257 [==============================] - 0s 129us/step - loss: 2.4899e-04\n",
      "Epoch 149/200\n",
      "1257/1257 [==============================] - 0s 160us/step - loss: 2.5326e-04\n",
      "Epoch 150/200\n",
      "1257/1257 [==============================] - 0s 173us/step - loss: 2.4623e-04\n",
      "Epoch 151/200\n",
      "1257/1257 [==============================] - 0s 132us/step - loss: 2.5073e-04\n",
      "Epoch 152/200\n",
      "1257/1257 [==============================] - 0s 129us/step - loss: 2.5189e-04\n",
      "Epoch 153/200\n",
      "1257/1257 [==============================] - 0s 156us/step - loss: 2.4982e-04\n",
      "Epoch 154/200\n",
      "1257/1257 [==============================] - 0s 147us/step - loss: 2.5394e-04\n",
      "Epoch 155/200\n",
      "1257/1257 [==============================] - 0s 170us/step - loss: 2.4986e-04\n",
      "Epoch 156/200\n",
      "1257/1257 [==============================] - 0s 187us/step - loss: 2.5185e-04\n",
      "Epoch 157/200\n",
      "1257/1257 [==============================] - 0s 223us/step - loss: 2.4887e-04\n",
      "Epoch 158/200\n",
      "1257/1257 [==============================] - 0s 211us/step - loss: 2.5212e-04\n",
      "Epoch 159/200\n",
      "1257/1257 [==============================] - 0s 209us/step - loss: 2.4753e-04\n",
      "Epoch 160/200\n",
      "1257/1257 [==============================] - 0s 185us/step - loss: 2.5028e-04\n",
      "Epoch 161/200\n",
      "1257/1257 [==============================] - 0s 198us/step - loss: 2.5092e-04\n",
      "Epoch 162/200\n",
      "1257/1257 [==============================] - 0s 150us/step - loss: 2.5234e-04\n",
      "Epoch 163/200\n",
      "1257/1257 [==============================] - 0s 141us/step - loss: 2.4965e-04\n",
      "Epoch 164/200\n",
      "1257/1257 [==============================] - 0s 182us/step - loss: 2.4990e-04\n",
      "Epoch 165/200\n",
      "1257/1257 [==============================] - 0s 181us/step - loss: 2.5022e-04\n",
      "Epoch 166/200\n",
      "1257/1257 [==============================] - 0s 161us/step - loss: 2.5112e-04\n",
      "Epoch 167/200\n",
      "1257/1257 [==============================] - 0s 160us/step - loss: 2.5151e-04\n",
      "Epoch 168/200\n",
      "1257/1257 [==============================] - 0s 158us/step - loss: 2.4730e-04\n",
      "Epoch 169/200\n",
      "1257/1257 [==============================] - 0s 185us/step - loss: 2.4838e-04\n",
      "Epoch 170/200\n",
      "1257/1257 [==============================] - 0s 161us/step - loss: 2.5385e-04\n",
      "Epoch 171/200\n",
      "1257/1257 [==============================] - 0s 154us/step - loss: 2.4858e-04\n",
      "Epoch 172/200\n",
      "1257/1257 [==============================] - 0s 137us/step - loss: 2.5043e-04\n",
      "Epoch 173/200\n",
      "1257/1257 [==============================] - 0s 136us/step - loss: 2.5139e-04\n",
      "Epoch 174/200\n",
      "1257/1257 [==============================] - 0s 141us/step - loss: 2.5181e-04\n",
      "Epoch 175/200\n",
      "1257/1257 [==============================] - 0s 201us/step - loss: 2.4918e-04\n",
      "Epoch 176/200\n",
      "1257/1257 [==============================] - 0s 156us/step - loss: 2.4738e-04\n",
      "Epoch 177/200\n",
      "1257/1257 [==============================] - 0s 138us/step - loss: 2.4966e-04\n",
      "Epoch 178/200\n",
      "1257/1257 [==============================] - 0s 148us/step - loss: 2.5036e-04\n",
      "Epoch 179/200\n",
      "1257/1257 [==============================] - 0s 158us/step - loss: 2.4932e-04\n",
      "Epoch 180/200\n",
      "1257/1257 [==============================] - 0s 164us/step - loss: 2.5145e-04\n",
      "Epoch 181/200\n",
      "1257/1257 [==============================] - 0s 161us/step - loss: 2.4817e-04\n",
      "Epoch 182/200\n"
     ]
    },
    {
     "name": "stdout",
     "output_type": "stream",
     "text": [
      "1257/1257 [==============================] - 0s 159us/step - loss: 2.5069e-04\n",
      "Epoch 183/200\n",
      "1257/1257 [==============================] - 0s 143us/step - loss: 2.4999e-04\n",
      "Epoch 184/200\n",
      "1257/1257 [==============================] - 0s 145us/step - loss: 2.5240e-04\n",
      "Epoch 185/200\n",
      "1257/1257 [==============================] - 0s 144us/step - loss: 2.5255e-04\n",
      "Epoch 186/200\n",
      "1257/1257 [==============================] - 0s 133us/step - loss: 2.5163e-04\n",
      "Epoch 187/200\n",
      "1257/1257 [==============================] - 0s 134us/step - loss: 2.5108e-04\n",
      "Epoch 188/200\n",
      "1257/1257 [==============================] - 0s 131us/step - loss: 2.4633e-04\n",
      "Epoch 189/200\n",
      "1257/1257 [==============================] - 0s 158us/step - loss: 2.5052e-04\n",
      "Epoch 190/200\n",
      "1257/1257 [==============================] - 0s 167us/step - loss: 2.5219e-04\n",
      "Epoch 191/200\n",
      "1257/1257 [==============================] - 0s 152us/step - loss: 2.4962e-04\n",
      "Epoch 192/200\n",
      "1257/1257 [==============================] - 0s 136us/step - loss: 2.5013e-04\n",
      "Epoch 193/200\n",
      "1257/1257 [==============================] - 0s 129us/step - loss: 2.4792e-04\n",
      "Epoch 194/200\n",
      "1257/1257 [==============================] - 0s 141us/step - loss: 2.5520e-04\n",
      "Epoch 195/200\n",
      "1257/1257 [==============================] - 0s 137us/step - loss: 2.4914e-04\n",
      "Epoch 196/200\n",
      "1257/1257 [==============================] - 0s 129us/step - loss: 2.5122e-04\n",
      "Epoch 197/200\n",
      "1257/1257 [==============================] - 0s 146us/step - loss: 2.4640e-04\n",
      "Epoch 198/200\n",
      "1257/1257 [==============================] - 0s 128us/step - loss: 2.5119e-04\n",
      "Epoch 199/200\n",
      "1257/1257 [==============================] - 0s 147us/step - loss: 2.4900e-04\n",
      "Epoch 200/200\n",
      "1257/1257 [==============================] - 0s 134us/step - loss: 2.5192e-04\n"
     ]
    },
    {
     "data": {
      "text/plain": [
       "<keras.callbacks.History at 0x7fdff0e3e9b0>"
      ]
     },
     "execution_count": 81,
     "metadata": {},
     "output_type": "execute_result"
    }
   ],
   "source": [
    "regressor.fit(X_train, y_train, epochs=200, batch_size=32)"
   ]
  },
  {
   "cell_type": "markdown",
   "metadata": {},
   "source": [
    "## Part 3 - Making the predictions and visualising the results\n",
    "\n",
    "- __Step 1__: Getting the real stock price of 2017\n",
    "- __Step 2__: Getting the predicted stock price of 2017\n",
    "- __Step 3__: Visualising the results"
   ]
  },
  {
   "cell_type": "code",
   "execution_count": 82,
   "metadata": {
    "ExecuteTime": {
     "end_time": "2018-10-19T22:22:47.565141Z",
     "start_time": "2018-10-19T22:22:47.526275Z"
    }
   },
   "outputs": [],
   "source": [
    "df_test = pd.read_csv('Google_Stock_Price_Test.csv')\n",
    "real_price = df_test.iloc[:, 1:2].values"
   ]
  },
  {
   "cell_type": "code",
   "execution_count": 90,
   "metadata": {
    "ExecuteTime": {
     "end_time": "2018-10-19T22:26:41.666063Z",
     "start_time": "2018-10-19T22:26:41.634245Z"
    }
   },
   "outputs": [],
   "source": [
    "inputs = real_price\n",
    "inputs = sc.transform(inputs)\n",
    "inputs = inputs.reshape(20, 1, 1)"
   ]
  },
  {
   "cell_type": "code",
   "execution_count": 94,
   "metadata": {
    "ExecuteTime": {
     "end_time": "2018-10-19T22:27:58.504170Z",
     "start_time": "2018-10-19T22:27:58.474191Z"
    }
   },
   "outputs": [],
   "source": [
    "pred_price = regressor.predict(inputs)\n",
    "pred_price = sc.inverse_transform(pred_price)"
   ]
  },
  {
   "cell_type": "code",
   "execution_count": 87,
   "metadata": {
    "ExecuteTime": {
     "end_time": "2018-10-19T22:23:24.265120Z",
     "start_time": "2018-10-19T22:23:24.230483Z"
    }
   },
   "outputs": [],
   "source": [
    "# df_total = pd.concat(\n",
    "#     (df_train['Open'], df_test['Open']), axis=0)\n",
    "# inputs = df_total[len(df_total) - len(df_test) - 60:].values\n",
    "# inputs = inputs.reshape(-1, 1)\n",
    "# inputs = sc.transform(inputs)"
   ]
  },
  {
   "cell_type": "code",
   "execution_count": 88,
   "metadata": {
    "ExecuteTime": {
     "end_time": "2018-10-19T22:23:24.434213Z",
     "start_time": "2018-10-19T22:23:24.399436Z"
    }
   },
   "outputs": [],
   "source": [
    "# X_test = []\n",
    "# for i in range(60, 80):\n",
    "#     X_test.append(inputs[i-60:i, 0])"
   ]
  },
  {
   "cell_type": "code",
   "execution_count": 89,
   "metadata": {
    "ExecuteTime": {
     "end_time": "2018-10-19T22:23:25.942678Z",
     "start_time": "2018-10-19T22:23:25.914544Z"
    }
   },
   "outputs": [],
   "source": [
    "# X_test = np.array(X_test)\n",
    "# X_test = np.reshape(X_test, (X_test.shape[0], X_test.shape[1], 1))"
   ]
  },
  {
   "cell_type": "code",
   "execution_count": 85,
   "metadata": {
    "ExecuteTime": {
     "end_time": "2018-10-19T22:22:47.952938Z",
     "start_time": "2018-10-19T22:22:47.669853Z"
    }
   },
   "outputs": [],
   "source": [
    "pred_price = regressor.predict(X_test)\n",
    "pred_price = sc.inverse_transform(pred_price)"
   ]
  },
  {
   "cell_type": "code",
   "execution_count": 95,
   "metadata": {
    "ExecuteTime": {
     "end_time": "2018-10-19T22:28:45.772589Z",
     "start_time": "2018-10-19T22:28:45.442067Z"
    }
   },
   "outputs": [
    {
     "data": {
      "image/png": "[encoded data removed]",
      "text/plain": [
       "<Figure size 432x288 with 1 Axes>"
      ]
     },
     "metadata": {
      "needs_background": "light"
     },
     "output_type": "display_data"
    }
   ],
   "source": [
    "plt.plot(real_price, color='red', label='Real Google Stock Price')\n",
    "plt.plot(pred_price, color='blue',\n",
    "         label='Predicted Google Stock Price')\n",
    "plt.title('Google Stock Price Prediction')\n",
    "plt.xlabel('Time')\n",
    "plt.ylabel('Google Stock Price')\n",
    "plt.legend()\n",
    "plt.show()"
   ]
  },
  {
   "cell_type": "code",
   "execution_count": null,
   "metadata": {},
   "outputs": [],
   "source": []
  }
 ],
 "metadata": {
  "kernelspec": {
   "display_name": "Python 3",
   "language": "python",
   "name": "python3"
  },
  "language_info": {
   "codemirror_mode": {
    "name": "ipython",
    "version": 3
   },
   "file_extension": ".py",
   "mimetype": "text/x-python",
   "name": "python",
   "nbconvert_exporter": "python",
   "pygments_lexer": "ipython3",
   "version": "3.6.6"
  }
 },
 "nbformat": 4,
 "nbformat_minor": 2
}
