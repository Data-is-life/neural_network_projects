{
 "cells": [
  {
   "cell_type": "code",
   "execution_count": 30,
   "metadata": {
    "ExecuteTime": {
     "end_time": "2018-11-01T02:16:01.183719Z",
     "start_time": "2018-11-01T02:16:01.169079Z"
    }
   },
   "outputs": [],
   "source": [
    "import numpy as np\n",
    "import pandas as pd\n",
    "import torch\n",
    "import torch.nn as nn\n",
    "import torch.nn.parallel\n",
    "import torch.optim as optim\n",
    "import torch.utils.data\n",
    "from torch.autograd import Variable"
   ]
  },
  {
   "cell_type": "code",
   "execution_count": 31,
   "metadata": {
    "ExecuteTime": {
     "end_time": "2018-11-01T02:16:05.171448Z",
     "start_time": "2018-11-01T02:16:01.459969Z"
    }
   },
   "outputs": [],
   "source": [
    "movies = pd.read_csv('./ml-1m/ml-1m/movies.dat', sep='::',\n",
    "                     header=None, engine='python', encoding='latin-1')\n",
    "users = pd.read_csv('./ml-1m/ml-1m/users.dat', sep='::', header=None,\n",
    "                    engine='python', encoding='latin-1')\n",
    "ratings = pd.read_csv('./ml-1m/ml-1m/ratings.dat', sep='::',\n",
    "                      header=None, engine='python', encoding='latin-1')"
   ]
  },
  {
   "cell_type": "code",
   "execution_count": 32,
   "metadata": {
    "ExecuteTime": {
     "end_time": "2018-11-01T02:16:05.236730Z",
     "start_time": "2018-11-01T02:16:05.174108Z"
    }
   },
   "outputs": [],
   "source": [
    "training_set = pd.read_csv('ml-100k/ml-100k/u1.base', delimiter='\\t')\n",
    "training_set = np.array(training_set, dtype='int')\n",
    "test_set = pd.read_csv('ml-100k/ml-100k/u1.test', delimiter='\\t')\n",
    "test_set = np.array(test_set, dtype='int')"
   ]
  },
  {
   "cell_type": "code",
   "execution_count": 33,
   "metadata": {
    "ExecuteTime": {
     "end_time": "2018-11-01T02:16:05.265895Z",
     "start_time": "2018-11-01T02:16:05.238543Z"
    }
   },
   "outputs": [],
   "source": [
    "nb_users = int(max(max(training_set[:, 0]), max(test_set[:, 0])))\n",
    "nb_movies = int(max(max(training_set[:, 1]), max(test_set[:, 1])))"
   ]
  },
  {
   "cell_type": "code",
   "execution_count": 34,
   "metadata": {
    "ExecuteTime": {
     "end_time": "2018-11-01T02:16:05.616047Z",
     "start_time": "2018-11-01T02:16:05.268545Z"
    }
   },
   "outputs": [],
   "source": [
    "def convert(data):\n",
    "    new_data = []\n",
    "    for id_users in range(1, nb_users + 1):\n",
    "        id_movies = data[:, 1][data[:, 0] == id_users]\n",
    "        id_ratings = data[:, 2][data[:, 0] == id_users]\n",
    "        ratings = np.zeros(nb_movies)\n",
    "        ratings[id_movies - 1] = id_ratings\n",
    "        new_data.append(list(ratings))\n",
    "    return new_data\n",
    "\n",
    "\n",
    "training_set = convert(training_set)\n",
    "test_set = convert(test_set)"
   ]
  },
  {
   "cell_type": "code",
   "execution_count": 35,
   "metadata": {
    "ExecuteTime": {
     "end_time": "2018-11-01T02:16:05.691741Z",
     "start_time": "2018-11-01T02:16:05.618278Z"
    }
   },
   "outputs": [],
   "source": [
    "training_set = torch.FloatTensor(training_set)\n",
    "test_set = torch.FloatTensor(test_set)"
   ]
  },
  {
   "cell_type": "markdown",
   "metadata": {},
   "source": [
    "the input is nn.Module. It is the inherited parent class.\n",
    "it is a class in pytorch that creates and activates the neural network.\n",
    "super function is used to get methods from nn.Module\n",
    "\n",
    "fc# is the full connection number. \n",
    "number of layers (incoming, outgoing)\n",
    "Linear is the layer type\n",
    "\n"
   ]
  },
  {
   "cell_type": "code",
   "execution_count": 36,
   "metadata": {
    "ExecuteTime": {
     "end_time": "2018-11-01T02:16:05.713299Z",
     "start_time": "2018-11-01T02:16:05.693908Z"
    }
   },
   "outputs": [],
   "source": [
    "class SAE(nn.Module):\n",
    "    def __init__(self, ):\n",
    "        super(SAE, self).__init__()\n",
    "        self.fc1 = nn.Linear(nb_movies, 97)\n",
    "        self.fc2 = nn.Linear(97, 37)\n",
    "        self.fc3 = nn.Linear(37, 83)\n",
    "        self.fc4 = nn.Linear(83, 59)\n",
    "        self.fc5 = nn.Linear(59, nb_movies)\n",
    "        self.activation = nn.Sigmoid()\n",
    "\n",
    "    def forward(self, x):\n",
    "        x = self.activation(self.fc1(x))\n",
    "        x = self.activation(self.fc2(x))\n",
    "        x = self.activation(self.fc3(x))\n",
    "        x = self.activation(self.fc4(x))\n",
    "        x = self.fc5(x)\n",
    "        return x\n",
    "\n",
    "sae = SAE()\n",
    "criterion = nn.MSELoss()\n",
    "optimizer = optim.Adamax(sae.parameters(), lr=0.01, weight_decay=0.5)"
   ]
  },
  {
   "cell_type": "code",
   "execution_count": 37,
   "metadata": {
    "ExecuteTime": {
     "end_time": "2018-11-01T02:19:56.009748Z",
     "start_time": "2018-11-01T02:16:05.715936Z"
    },
    "scrolled": false
   },
   "outputs": [
    {
     "name": "stderr",
     "output_type": "stream",
     "text": [
      "/home/guess/anaconda3/lib/python3.6/site-packages/ipykernel_launcher.py:16: UserWarning: invalid index of a 0-dim tensor. This will be an error in PyTorch 0.5. Use tensor.item() to convert a 0-dim tensor to a Python number\n",
      "  app.launch_new_instance()\n"
     ]
    },
    {
     "name": "stdout",
     "output_type": "stream",
     "text": [
      "epoch: 1 loss: 1.4194051027297974\n",
      "epoch: 2 loss: 1.0619930028915405\n",
      "epoch: 3 loss: 1.0541507005691528\n",
      "epoch: 4 loss: 1.0507789850234985\n",
      "epoch: 5 loss: 1.0482618808746338\n",
      "epoch: 6 loss: 1.0462329387664795\n",
      "epoch: 7 loss: 1.04392409324646\n",
      "epoch: 8 loss: 1.041454553604126\n",
      "epoch: 9 loss: 1.0387554168701172\n",
      "epoch: 10 loss: 1.0369409322738647\n",
      "epoch: 11 loss: 1.0357064008712769\n",
      "epoch: 12 loss: 1.0346179008483887\n",
      "epoch: 13 loss: 1.0339629650115967\n",
      "epoch: 14 loss: 1.0333806276321411\n",
      "epoch: 15 loss: 1.032731056213379\n",
      "epoch: 16 loss: 1.0321931838989258\n",
      "epoch: 17 loss: 1.031589150428772\n",
      "epoch: 18 loss: 1.0309561491012573\n",
      "epoch: 19 loss: 1.030419945716858\n",
      "epoch: 20 loss: 1.0300483703613281\n",
      "epoch: 21 loss: 1.0317261219024658\n",
      "epoch: 22 loss: 1.0315182209014893\n",
      "epoch: 23 loss: 1.0301690101623535\n",
      "epoch: 24 loss: 1.0295594930648804\n",
      "epoch: 25 loss: 1.0290921926498413\n",
      "epoch: 26 loss: 1.0282353162765503\n",
      "epoch: 27 loss: 1.0272399187088013\n",
      "epoch: 28 loss: 1.02608060836792\n",
      "epoch: 29 loss: 1.024830937385559\n",
      "epoch: 30 loss: 1.0232901573181152\n",
      "epoch: 31 loss: 1.021754503250122\n",
      "epoch: 32 loss: 1.0196924209594727\n",
      "epoch: 33 loss: 1.0166183710098267\n",
      "epoch: 34 loss: 1.016122817993164\n",
      "epoch: 35 loss: 1.0132827758789062\n",
      "epoch: 36 loss: 1.0110565423965454\n"
     ]
    },
    {
     "ename": "KeyboardInterrupt",
     "evalue": "",
     "output_type": "error",
     "traceback": [
      "\u001b[0;31m---------------------------------------------------------------------------\u001b[0m",
      "\u001b[0;31mKeyboardInterrupt\u001b[0m                         Traceback (most recent call last)",
      "\u001b[0;32m<ipython-input-37-07d4595f8e18>\u001b[0m in \u001b[0;36m<module>\u001b[0;34m\u001b[0m\n\u001b[1;32m     16\u001b[0m             \u001b[0mtrain_loss\u001b[0m \u001b[0;34m+=\u001b[0m \u001b[0mnp\u001b[0m\u001b[0;34m.\u001b[0m\u001b[0msqrt\u001b[0m\u001b[0;34m(\u001b[0m\u001b[0mloss\u001b[0m\u001b[0;34m.\u001b[0m\u001b[0mdata\u001b[0m\u001b[0;34m[\u001b[0m\u001b[0;36m0\u001b[0m\u001b[0;34m]\u001b[0m\u001b[0;34m*\u001b[0m\u001b[0mmean_corrector\u001b[0m\u001b[0;34m)\u001b[0m\u001b[0;34m\u001b[0m\u001b[0m\n\u001b[1;32m     17\u001b[0m             \u001b[0ms\u001b[0m \u001b[0;34m+=\u001b[0m \u001b[0;36m1\u001b[0m\u001b[0;34m\u001b[0m\u001b[0m\n\u001b[0;32m---> 18\u001b[0;31m             \u001b[0moptimizer\u001b[0m\u001b[0;34m.\u001b[0m\u001b[0mstep\u001b[0m\u001b[0;34m(\u001b[0m\u001b[0;34m)\u001b[0m\u001b[0;34m\u001b[0m\u001b[0m\n\u001b[0m\u001b[1;32m     19\u001b[0m     \u001b[0mprint\u001b[0m\u001b[0;34m(\u001b[0m\u001b[0;34mf'epoch: {epoch} loss: {train_loss/s}'\u001b[0m\u001b[0;34m)\u001b[0m\u001b[0;34m\u001b[0m\u001b[0m\n",
      "\u001b[0;32m~/anaconda3/lib/python3.6/site-packages/torch/optim/adamax.py\u001b[0m in \u001b[0;36mstep\u001b[0;34m(self, closure)\u001b[0m\n\u001b[1;32m     63\u001b[0m                     \u001b[0mstate\u001b[0m\u001b[0;34m[\u001b[0m\u001b[0;34m'exp_inf'\u001b[0m\u001b[0;34m]\u001b[0m \u001b[0;34m=\u001b[0m \u001b[0mtorch\u001b[0m\u001b[0;34m.\u001b[0m\u001b[0mzeros_like\u001b[0m\u001b[0;34m(\u001b[0m\u001b[0mp\u001b[0m\u001b[0;34m.\u001b[0m\u001b[0mdata\u001b[0m\u001b[0;34m)\u001b[0m\u001b[0;34m\u001b[0m\u001b[0m\n\u001b[1;32m     64\u001b[0m \u001b[0;34m\u001b[0m\u001b[0m\n\u001b[0;32m---> 65\u001b[0;31m                 \u001b[0mexp_avg\u001b[0m\u001b[0;34m,\u001b[0m \u001b[0mexp_inf\u001b[0m \u001b[0;34m=\u001b[0m \u001b[0mstate\u001b[0m\u001b[0;34m[\u001b[0m\u001b[0;34m'exp_avg'\u001b[0m\u001b[0;34m]\u001b[0m\u001b[0;34m,\u001b[0m \u001b[0mstate\u001b[0m\u001b[0;34m[\u001b[0m\u001b[0;34m'exp_inf'\u001b[0m\u001b[0;34m]\u001b[0m\u001b[0;34m\u001b[0m\u001b[0m\n\u001b[0m\u001b[1;32m     66\u001b[0m                 \u001b[0mbeta1\u001b[0m\u001b[0;34m,\u001b[0m \u001b[0mbeta2\u001b[0m \u001b[0;34m=\u001b[0m \u001b[0mgroup\u001b[0m\u001b[0;34m[\u001b[0m\u001b[0;34m'betas'\u001b[0m\u001b[0;34m]\u001b[0m\u001b[0;34m\u001b[0m\u001b[0m\n\u001b[1;32m     67\u001b[0m                 \u001b[0meps\u001b[0m \u001b[0;34m=\u001b[0m \u001b[0mgroup\u001b[0m\u001b[0;34m[\u001b[0m\u001b[0;34m'eps'\u001b[0m\u001b[0;34m]\u001b[0m\u001b[0;34m\u001b[0m\u001b[0m\n",
      "\u001b[0;31mKeyboardInterrupt\u001b[0m: "
     ]
    }
   ],
   "source": [
    "nb_epoch = 200\n",
    "for epoch in range(1, nb_epoch + 1):\n",
    "    train_loss = 0\n",
    "    s = 0\n",
    "    for id_user in range(nb_users):\n",
    "        input = Variable(training_set[id_user]).unsqueeze(0)\n",
    "        target = input.clone()\n",
    "        if torch.sum(target.data > 0) > 0:\n",
    "            output = sae(input)\n",
    "            target.require_grad = False\n",
    "            output[target == 0] = 0\n",
    "            loss = criterion(output, target)\n",
    "            mean_corrector = nb_movies / \\\n",
    "                float(torch.sum(target.data > 0) + 1e-10)\n",
    "            loss.backward()\n",
    "            train_loss += np.sqrt(loss.data[0]*mean_corrector)\n",
    "            s += 1\n",
    "            optimizer.step()\n",
    "    print(f'epoch: {epoch} loss: {train_loss/s}')"
   ]
  },
  {
   "cell_type": "code",
   "execution_count": null,
   "metadata": {
    "ExecuteTime": {
     "end_time": "2018-11-01T02:19:56.013694Z",
     "start_time": "2018-11-01T02:16:04.415Z"
    }
   },
   "outputs": [],
   "source": [
    "test_loss = 0\n",
    "s = 0\n",
    "for id_user in range(nb_users):\n",
    "    input = Variable(training_set[id_user]).unsqueeze(0)\n",
    "    target = Variable(test_set[id_user]).unsqueeze(0)\n",
    "    if torch.sum(target.data > 0) > 0:\n",
    "        output = sae(input)\n",
    "        target.require_grad = False\n",
    "        output[target == 0] = 0\n",
    "        loss = criterion(output, target)\n",
    "        mean_corrector = nb_movies/float(torch.sum(target.data > 0) + 1e-10)\n",
    "        test_loss += np.sqrt(loss.data[0]*mean_corrector)\n",
    "        s += 1\n",
    "print(f'test loss: {test_loss/s}')"
   ]
  },
  {
   "cell_type": "markdown",
   "metadata": {},
   "source": [
    "- AdaGrad: test loss = 0.9383 | final loss = 0.8790\n",
    "- AdaDelta: Garbage!!!\n",
    "- ASGD: test loss = 0.9676 | final loss = 0.9020\n",
    "- Adam: test loss = 0.9307 | final loss = 0.8667\n",
    "- AdaMax: test loss = 0. | final loss = 0.\n",
    "- RMSProp: test loss = 0.9722 | final loss = 0.9222 \n",
    "- RProp: test loss =  | final loss = \n",
    "- SGD: test loss =  | final loss = \n",
    "- ASGD: test loss =  | final loss = "
   ]
  },
  {
   "cell_type": "code",
   "execution_count": null,
   "metadata": {},
   "outputs": [],
   "source": []
  }
 ],
 "metadata": {
  "kernelspec": {
   "display_name": "Python 3",
   "language": "python",
   "name": "python3"
  },
  "language_info": {
   "codemirror_mode": {
    "name": "ipython",
    "version": 3
   },
   "file_extension": ".py",
   "mimetype": "text/x-python",
   "name": "python",
   "nbconvert_exporter": "python",
   "pygments_lexer": "ipython3",
   "version": "3.6.6"
  }
 },
 "nbformat": 4,
 "nbformat_minor": 2
}
