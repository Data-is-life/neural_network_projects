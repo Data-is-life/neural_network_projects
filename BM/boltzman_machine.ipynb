{
 "cells": [
  {
   "cell_type": "markdown",
   "metadata": {
    "ExecuteTime": {
     "end_time": "2018-10-31T02:22:16.991815Z",
     "start_time": "2018-10-31T02:22:16.971269Z"
    }
   },
   "source": [
    "# Boltzman Machine"
   ]
  },
  {
   "cell_type": "code",
   "execution_count": 1,
   "metadata": {
    "ExecuteTime": {
     "end_time": "2018-10-31T19:57:53.332014Z",
     "start_time": "2018-10-31T19:57:52.913676Z"
    }
   },
   "outputs": [],
   "source": [
    "import numpy as np\n",
    "import pandas as pd\n",
    "import torch\n",
    "import torch.nn as nn\n",
    "import torch.nn.parallel\n",
    "import torch.optim as optim\n",
    "import torch.utils.data\n",
    "from torch.autograd import Variable"
   ]
  },
  {
   "cell_type": "code",
   "execution_count": 2,
   "metadata": {
    "ExecuteTime": {
     "end_time": "2018-10-31T20:06:02.211225Z",
     "start_time": "2018-10-31T20:05:58.223824Z"
    }
   },
   "outputs": [],
   "source": [
    "movies = pd.read_csv('./ml-1m/movies.dat', sep='::',\n",
    "                     header=None, engine='python', encoding='latin-1')\n",
    "users = pd.read_csv('./ml-1m/users.dat', sep='::', header=None,\n",
    "                    engine='python', encoding='latin-1')\n",
    "ratings = pd.read_csv('./ml-1m/ratings.dat', sep='::',\n",
    "                      header=None, engine='python', encoding='latin-1')"
   ]
  },
  {
   "cell_type": "code",
   "execution_count": 3,
   "metadata": {
    "ExecuteTime": {
     "end_time": "2018-10-31T20:06:02.901068Z",
     "start_time": "2018-10-31T20:06:02.862708Z"
    },
    "scrolled": true
   },
   "outputs": [
    {
     "name": "stdout",
     "output_type": "stream",
     "text": [
      "   0                                   1                             2\n",
      "0  1                    Toy Story (1995)   Animation|Children's|Comedy\n",
      "1  2                      Jumanji (1995)  Adventure|Children's|Fantasy\n",
      "2  3             Grumpier Old Men (1995)                Comedy|Romance\n",
      "3  4            Waiting to Exhale (1995)                  Comedy|Drama\n",
      "4  5  Father of the Bride Part II (1995)                        Comedy\n",
      "\n",
      "-------------------------------------------------------------------\n",
      "\n",
      "                 0\n",
      "count  3883.000000\n",
      "mean   1986.049446\n",
      "std    1146.778349\n",
      "min       1.000000\n",
      "25%     982.500000\n",
      "50%    2010.000000\n",
      "75%    2980.500000\n",
      "max    3952.000000\n",
      "\n",
      "-------------------------------------------------------------------\n",
      "\n",
      "<class 'pandas.core.frame.DataFrame'>\n",
      "RangeIndex: 3883 entries, 0 to 3882\n",
      "Data columns (total 3 columns):\n",
      "0    3883 non-null int64\n",
      "1    3883 non-null object\n",
      "2    3883 non-null object\n",
      "dtypes: int64(1), object(2)\n",
      "memory usage: 91.1+ KB\n",
      "None\n",
      "\n",
      "-------------------------------------------------------------------\n",
      "\n",
      "Int64Index([0, 1, 2], dtype='int64')\n"
     ]
    }
   ],
   "source": [
    "print(f'{movies.head()}')\n",
    "print('\\n-------------------------------------------------------------------\\n')\n",
    "print(f'{movies.describe()}')\n",
    "print('\\n-------------------------------------------------------------------\\n')\n",
    "print(f'{movies.info()}')\n",
    "print('\\n-------------------------------------------------------------------\\n')\n",
    "print(f'{movies.columns}')"
   ]
  },
  {
   "cell_type": "code",
   "execution_count": 4,
   "metadata": {
    "ExecuteTime": {
     "end_time": "2018-10-31T20:06:03.530557Z",
     "start_time": "2018-10-31T20:06:03.492978Z"
    },
    "scrolled": true
   },
   "outputs": [
    {
     "name": "stdout",
     "output_type": "stream",
     "text": [
      "   0  1   2   3      4\n",
      "0  1  F   1  10  48067\n",
      "1  2  M  56  16  70072\n",
      "2  3  M  25  15  55117\n",
      "3  4  M  45   7  02460\n",
      "4  5  M  25  20  55455\n",
      "\n",
      "-------------------------------------------------------------------\n",
      "\n",
      "                 0            2            3\n",
      "count  6040.000000  6040.000000  6040.000000\n",
      "mean   3020.500000    30.639238     8.146854\n",
      "std    1743.742145    12.895962     6.329511\n",
      "min       1.000000     1.000000     0.000000\n",
      "25%    1510.750000    25.000000     3.000000\n",
      "50%    3020.500000    25.000000     7.000000\n",
      "75%    4530.250000    35.000000    14.000000\n",
      "max    6040.000000    56.000000    20.000000\n",
      "\n",
      "-------------------------------------------------------------------\n",
      "\n",
      "<class 'pandas.core.frame.DataFrame'>\n",
      "RangeIndex: 6040 entries, 0 to 6039\n",
      "Data columns (total 5 columns):\n",
      "0    6040 non-null int64\n",
      "1    6040 non-null object\n",
      "2    6040 non-null int64\n",
      "3    6040 non-null int64\n",
      "4    6040 non-null object\n",
      "dtypes: int64(3), object(2)\n",
      "memory usage: 236.0+ KB\n",
      "None\n",
      "\n",
      "-------------------------------------------------------------------\n",
      "\n",
      "Int64Index([0, 1, 2, 3, 4], dtype='int64')\n"
     ]
    }
   ],
   "source": [
    "print(f'{users.head()}')\n",
    "print('\\n-------------------------------------------------------------------\\n')\n",
    "print(f'{users.describe()}')\n",
    "print('\\n-------------------------------------------------------------------\\n')\n",
    "print(f'{users.info()}')\n",
    "print('\\n-------------------------------------------------------------------\\n')\n",
    "print(f'{users.columns}')"
   ]
  },
  {
   "cell_type": "code",
   "execution_count": 5,
   "metadata": {
    "ExecuteTime": {
     "end_time": "2018-10-31T20:06:04.644521Z",
     "start_time": "2018-10-31T20:06:04.300120Z"
    },
    "scrolled": true
   },
   "outputs": [
    {
     "name": "stdout",
     "output_type": "stream",
     "text": [
      "   0     1  2          3\n",
      "0  1  1193  5  978300760\n",
      "1  1   661  3  978302109\n",
      "2  1   914  3  978301968\n",
      "3  1  3408  4  978300275\n",
      "4  1  2355  5  978824291\n",
      "\n",
      "-------------------------------------------------------------------\n",
      "\n",
      "                  0             1             2             3\n",
      "count  1.000209e+06  1.000209e+06  1.000209e+06  1.000209e+06\n",
      "mean   3.024512e+03  1.865540e+03  3.581564e+00  9.722437e+08\n",
      "std    1.728413e+03  1.096041e+03  1.117102e+00  1.215256e+07\n",
      "min    1.000000e+00  1.000000e+00  1.000000e+00  9.567039e+08\n",
      "25%    1.506000e+03  1.030000e+03  3.000000e+00  9.653026e+08\n",
      "50%    3.070000e+03  1.835000e+03  4.000000e+00  9.730180e+08\n",
      "75%    4.476000e+03  2.770000e+03  4.000000e+00  9.752209e+08\n",
      "max    6.040000e+03  3.952000e+03  5.000000e+00  1.046455e+09\n",
      "\n",
      "-------------------------------------------------------------------\n",
      "\n",
      "<class 'pandas.core.frame.DataFrame'>\n",
      "RangeIndex: 1000209 entries, 0 to 1000208\n",
      "Data columns (total 4 columns):\n",
      "0    1000209 non-null int64\n",
      "1    1000209 non-null int64\n",
      "2    1000209 non-null int64\n",
      "3    1000209 non-null int64\n",
      "dtypes: int64(4)\n",
      "memory usage: 30.5 MB\n",
      "None\n",
      "\n",
      "-------------------------------------------------------------------\n",
      "\n",
      "Int64Index([0, 1, 2, 3], dtype='int64')\n"
     ]
    }
   ],
   "source": [
    "print(f'{ratings.head()}')\n",
    "print('\\n-------------------------------------------------------------------\\n')\n",
    "print(f'{ratings.describe()}')\n",
    "print('\\n-------------------------------------------------------------------\\n')\n",
    "print(f'{ratings.info()}')\n",
    "print('\\n-------------------------------------------------------------------\\n')\n",
    "print(f'{ratings.columns}')"
   ]
  },
  {
   "cell_type": "code",
   "execution_count": 6,
   "metadata": {
    "ExecuteTime": {
     "end_time": "2018-10-31T20:06:04.865835Z",
     "start_time": "2018-10-31T20:06:04.837821Z"
    }
   },
   "outputs": [
    {
     "name": "stdout",
     "output_type": "stream",
     "text": [
      "2047    1\n",
      "2656    1\n",
      "2712    1\n",
      "661     1\n",
      "2708    1\n",
      "657     1\n",
      "2704    1\n",
      "653     1\n",
      "2700    1\n",
      "649     1\n",
      "2696    1\n",
      "645     1\n",
      "2692    1\n",
      "641     1\n",
      "2688    1\n",
      "637     1\n",
      "2684    1\n",
      "633     1\n",
      "2680    1\n",
      "629     1\n",
      "2676    1\n",
      "625     1\n",
      "2672    1\n",
      "621     1\n",
      "2668    1\n",
      "617     1\n",
      "2664    1\n",
      "613     1\n",
      "2660    1\n",
      "665     1\n",
      "       ..\n",
      "3323    1\n",
      "3379    1\n",
      "1306    1\n",
      "1330    1\n",
      "3375    1\n",
      "1326    1\n",
      "3371    1\n",
      "1322    1\n",
      "3367    1\n",
      "1318    1\n",
      "3363    1\n",
      "1314    1\n",
      "3359    1\n",
      "1310    1\n",
      "3355    1\n",
      "3351    1\n",
      "1278    1\n",
      "1302    1\n",
      "3347    1\n",
      "1298    1\n",
      "3343    1\n",
      "1294    1\n",
      "3339    1\n",
      "1290    1\n",
      "3335    1\n",
      "1286    1\n",
      "3331    1\n",
      "1282    1\n",
      "3327    1\n",
      "2049    1\n",
      "Name: 0, Length: 3883, dtype: int64\n",
      "Newton Boys, The (1998)                                 1\n",
      "One Tough Cop (1998)                                    1\n",
      "Hamlet (1990)                                           1\n",
      "Promise, The (Versprechen, Das) (1994)                  1\n",
      "D3: The Mighty Ducks (1996)                             1\n",
      "Adventures of Milo and Otis, The (1986)                 1\n",
      "Forever Young (1992)                                    1\n",
      "African Queen, The (1951)                               1\n",
      "Gentleman's Agreement (1947)                            1\n",
      "1-900 (1994)                                            1\n",
      "Children of Paradise (Les enfants du paradis) (1945)    1\n",
      "Man of Her Dreams (1996)                                1\n",
      "Roman Holiday (1953)                                    1\n",
      "Retroactive (1997)                                      1\n",
      "Nueba Yol (1995)                                        1\n",
      "Smile Like Yours, A (1997)                              1\n",
      "Hot Spot, The (1990)                                    1\n",
      "American Flyers (1985)                                  1\n",
      "Cider House Rules, The (1999)                           1\n",
      "Detroit Rock City (1999)                                1\n",
      "Wings of Desire (Der Himmel über Berlin) (1987)         1\n",
      "Out of Africa (1985)                                    1\n",
      "Sweet Nothing (1995)                                    1\n",
      "Adventures in Babysitting (1987)                        1\n",
      "On the Waterfront (1954)                                1\n",
      "Baby... Secret of the Lost Legend (1985)                1\n",
      "Nurse Betty (2000)                                      1\n",
      "Good, The Bad and The Ugly, The (1966)                  1\n",
      "Kissing a Fool (1998)                                   1\n",
      "Dead Man on Campus (1998)                               1\n",
      "                                                       ..\n",
      "Primal Fear (1996)                                      1\n",
      "Thunderball (1965)                                      1\n",
      "SLC Punk! (1998)                                        1\n",
      "My Blue Heaven (1990)                                   1\n",
      "Loss of Sexual Innocence, The (1999)                    1\n",
      "What About Bob? (1991)                                  1\n",
      "Police Academy 4: Citizens on Patrol (1987)             1\n",
      "Duck Soup (1933)                                        1\n",
      "Fargo (1996)                                            1\n",
      "Phantom of the Opera, The (1943)                        1\n",
      "Armed and Dangerous (1986)                              1\n",
      "Raising Arizona (1987)                                  1\n",
      "Beautiful People (1999)                                 1\n",
      "Muppet Treasure Island (1996)                           1\n",
      "Men of Means (1998)                                     1\n",
      "Jack and Sarah (1995)                                   1\n",
      "Associate, The (1996)                                   1\n",
      "Destination Moon (1950)                                 1\n",
      "Train of Life (Train De Vie) (1998)                     1\n",
      "Brandon Teena Story, The (1998)                         1\n",
      "Meteor (1979)                                           1\n",
      "With Honors (1994)                                      1\n",
      "Spaceballs (1987)                                       1\n",
      "Wes Craven's New Nightmare (1994)                       1\n",
      "Fantastic Voyage (1966)                                 1\n",
      "Cabaret (1972)                                          1\n",
      "They Made Me a Criminal (1939)                          1\n",
      "Star Wars: Episode VI - Return of the Jedi (1983)       1\n",
      "Rear Window (1954)                                      1\n",
      "Angela's Ashes (1999)                                   1\n",
      "Name: 1, Length: 3883, dtype: int64\n",
      "Drama                                       843\n",
      "Comedy                                      521\n",
      "Horror                                      178\n",
      "Comedy|Drama                                162\n",
      "Comedy|Romance                              142\n",
      "Drama|Romance                               134\n",
      "Documentary                                 116\n",
      "Thriller                                    101\n",
      "Action                                       65\n",
      "Drama|Thriller                               63\n",
      "Action|Thriller                              48\n",
      "Children's|Comedy                            47\n",
      "Crime|Drama                                  44\n",
      "Drama|War                                    43\n",
      "Romance                                      40\n",
      "Action|Drama                                 39\n",
      "Animation|Children's                         35\n",
      "Comedy|Drama|Romance                         34\n",
      "Western                                      33\n",
      "Horror|Sci-Fi                                33\n",
      "Horror|Thriller                              32\n",
      "Comedy|Horror                                31\n",
      "Adventure|Children's                         30\n",
      "Action|Sci-Fi                                28\n",
      "Sci-Fi                                       27\n",
      "Crime                                        26\n",
      "Action|Adventure                             25\n",
      "Action|Comedy                                22\n",
      "Crime|Thriller                               21\n",
      "Action|Adventure|Sci-Fi                      21\n",
      "                                           ... \n",
      "Action|Sci-Fi|Western                         1\n",
      "Action|Comedy|Sci-Fi|Thriller                 1\n",
      "Adventure|Animation|Sci-Fi                    1\n",
      "Action|Crime|Mystery|Thriller                 1\n",
      "Drama|Fantasy|Romance|Thriller                1\n",
      "Comedy|Sci-Fi|Western                         1\n",
      "Film-Noir|Romance|Thriller                    1\n",
      "Adventure|Comedy|Drama                        1\n",
      "Adventure|Animation|Children's|Fantasy        1\n",
      "Action|Crime|Mystery                          1\n",
      "Comedy|Crime|Horror                           1\n",
      "Action|Comedy|Musical|Sci-Fi                  1\n",
      "Drama|Romance|War|Western                     1\n",
      "Action|Sci-Fi|Thriller|War                    1\n",
      "Animation|Children's|Fantasy|Musical          1\n",
      "Action|Adventure|Comedy|Sci-Fi                1\n",
      "Action|Adventure|Sci-Fi|Thriller|War          1\n",
      "Action|Comedy|Fantasy                         1\n",
      "Animation|Children's|Drama|Fantasy            1\n",
      "Action|Adventure|Children's                   1\n",
      "Adventure|Animation|Film-Noir                 1\n",
      "Comedy|Romance|Sci-Fi                         1\n",
      "Musical|War                                   1\n",
      "Action|Adventure|Comedy|Horror|Sci-Fi         1\n",
      "Crime|Mystery                                 1\n",
      "Comedy|Fantasy|Romance|Sci-Fi                 1\n",
      "Children's|Sci-Fi                             1\n",
      "Adventure|Crime|Sci-Fi|Thriller               1\n",
      "Action|Sci-Fi|Thriller|Western                1\n",
      "Action|Adventure|Animation|Horror|Sci-Fi      1\n",
      "Name: 2, Length: 301, dtype: int64\n"
     ]
    }
   ],
   "source": [
    "for num in range(len(movies.columns)):\n",
    "    print(movies.iloc[:,num].value_counts())"
   ]
  },
  {
   "cell_type": "code",
   "execution_count": 7,
   "metadata": {
    "ExecuteTime": {
     "end_time": "2018-10-31T20:06:05.445030Z",
     "start_time": "2018-10-31T20:06:05.419548Z"
    }
   },
   "outputs": [
    {
     "name": "stdout",
     "output_type": "stream",
     "text": [
      "2047    1\n",
      "2724    1\n",
      "2712    1\n",
      "665     1\n",
      "4763    1\n",
      "2716    1\n",
      "669     1\n",
      "4767    1\n",
      "2720    1\n",
      "673     1\n",
      "4771    1\n",
      "677     1\n",
      "661     1\n",
      "4775    1\n",
      "2728    1\n",
      "681     1\n",
      "4779    1\n",
      "2732    1\n",
      "685     1\n",
      "4783    1\n",
      "2736    1\n",
      "689     1\n",
      "4759    1\n",
      "2708    1\n",
      "4851    1\n",
      "2692    1\n",
      "2680    1\n",
      "633     1\n",
      "4731    1\n",
      "2684    1\n",
      "       ..\n",
      "3423    1\n",
      "5472    1\n",
      "1378    1\n",
      "3427    1\n",
      "5476    1\n",
      "1382    1\n",
      "3403    1\n",
      "1354    1\n",
      "5448    1\n",
      "3399    1\n",
      "1326    1\n",
      "3375    1\n",
      "5424    1\n",
      "1330    1\n",
      "3379    1\n",
      "5428    1\n",
      "1334    1\n",
      "3383    1\n",
      "5432    1\n",
      "1338    1\n",
      "3387    1\n",
      "5436    1\n",
      "1342    1\n",
      "3391    1\n",
      "5440    1\n",
      "1346    1\n",
      "3395    1\n",
      "5444    1\n",
      "1350    1\n",
      "2049    1\n",
      "Name: 0, Length: 6040, dtype: int64\n",
      "M    4331\n",
      "F    1709\n",
      "Name: 1, dtype: int64\n",
      "25    2096\n",
      "35    1193\n",
      "18    1103\n",
      "45     550\n",
      "50     496\n",
      "56     380\n",
      "1      222\n",
      "Name: 2, dtype: int64\n",
      "4     759\n",
      "0     711\n",
      "7     679\n",
      "1     528\n",
      "17    502\n",
      "12    388\n",
      "14    302\n",
      "20    281\n",
      "2     267\n",
      "16    241\n",
      "6     236\n",
      "10    195\n",
      "3     173\n",
      "15    144\n",
      "13    142\n",
      "11    129\n",
      "5     112\n",
      "9      92\n",
      "19     72\n",
      "18     70\n",
      "8      17\n",
      "Name: 3, dtype: int64\n",
      "48104         19\n",
      "22903         18\n",
      "55104         17\n",
      "94110         17\n",
      "55105         16\n",
      "55455         16\n",
      "10025         16\n",
      "02138         15\n",
      "55408         15\n",
      "94114         15\n",
      "90024         14\n",
      "98103         14\n",
      "94117         14\n",
      "60640         13\n",
      "10016         13\n",
      "37922         13\n",
      "48103         13\n",
      "90210         13\n",
      "55406         12\n",
      "10003         11\n",
      "48105         11\n",
      "55405         11\n",
      "55113         11\n",
      "02139         11\n",
      "02143         10\n",
      "13210         10\n",
      "98115         10\n",
      "10011         10\n",
      "60657         10\n",
      "10021         10\n",
      "              ..\n",
      "11784          1\n",
      "60664          1\n",
      "48103-4711     1\n",
      "33309          1\n",
      "94612          1\n",
      "32301          1\n",
      "33759          1\n",
      "63131          1\n",
      "90740          1\n",
      "94523          1\n",
      "53523          1\n",
      "19131          1\n",
      "02370          1\n",
      "65550          1\n",
      "94103          1\n",
      "14760          1\n",
      "97206          1\n",
      "50309          1\n",
      "76707          1\n",
      "07430          1\n",
      "19428          1\n",
      "08009          1\n",
      "03848          1\n",
      "76031          1\n",
      "01851          1\n",
      "54971          1\n",
      "55459          1\n",
      "76309          1\n",
      "62958          1\n",
      "03768          1\n",
      "Name: 4, Length: 3439, dtype: int64\n"
     ]
    }
   ],
   "source": [
    "for num in range(len(users.columns)):\n",
    "    print(users.iloc[:,num].value_counts())"
   ]
  },
  {
   "cell_type": "code",
   "execution_count": 8,
   "metadata": {
    "ExecuteTime": {
     "end_time": "2018-10-31T20:06:06.249832Z",
     "start_time": "2018-10-31T20:06:06.107073Z"
    }
   },
   "outputs": [
    {
     "name": "stdout",
     "output_type": "stream",
     "text": [
      "4169    2314\n",
      "1680    1850\n",
      "4277    1743\n",
      "1941    1595\n",
      "1181    1521\n",
      "889     1518\n",
      "3618    1344\n",
      "2063    1323\n",
      "1150    1302\n",
      "1015    1286\n",
      "5795    1277\n",
      "4344    1271\n",
      "1980    1260\n",
      "2909    1258\n",
      "1449    1243\n",
      "4510    1240\n",
      "424     1226\n",
      "4227    1222\n",
      "5831    1220\n",
      "3391    1216\n",
      "3841    1216\n",
      "4508    1211\n",
      "1088    1176\n",
      "5367    1169\n",
      "3808    1158\n",
      "549     1152\n",
      "1285    1144\n",
      "3224    1115\n",
      "3539    1078\n",
      "4543    1050\n",
      "        ... \n",
      "5309      20\n",
      "703       20\n",
      "932       20\n",
      "160       20\n",
      "5027      20\n",
      "2292      20\n",
      "1664      20\n",
      "5904      20\n",
      "3633      20\n",
      "4365      20\n",
      "4628      20\n",
      "5258      20\n",
      "2530      20\n",
      "5168      20\n",
      "5380      20\n",
      "3552      20\n",
      "4749      20\n",
      "2819      20\n",
      "6038      20\n",
      "5012      20\n",
      "4244      20\n",
      "5525      20\n",
      "3222      20\n",
      "250       20\n",
      "665       20\n",
      "761       20\n",
      "1493      20\n",
      "5533      20\n",
      "2714      20\n",
      "2696      20\n",
      "Name: 0, Length: 6040, dtype: int64\n",
      "2858    3428\n",
      "260     2991\n",
      "1196    2990\n",
      "1210    2883\n",
      "480     2672\n",
      "2028    2653\n",
      "589     2649\n",
      "2571    2590\n",
      "1270    2583\n",
      "593     2578\n",
      "1580    2538\n",
      "1198    2514\n",
      "608     2513\n",
      "2762    2459\n",
      "110     2443\n",
      "2396    2369\n",
      "1197    2318\n",
      "527     2304\n",
      "1617    2288\n",
      "1265    2278\n",
      "1097    2269\n",
      "2628    2250\n",
      "2997    2241\n",
      "318     2227\n",
      "858     2223\n",
      "356     2194\n",
      "2716    2181\n",
      "296     2171\n",
      "1240    2098\n",
      "1       2077\n",
      "        ... \n",
      "3237       1\n",
      "2213       1\n",
      "3530       1\n",
      "3904       1\n",
      "1852       1\n",
      "826        1\n",
      "790        1\n",
      "3229       1\n",
      "3656       1\n",
      "2619       1\n",
      "843        1\n",
      "2218       1\n",
      "2909       1\n",
      "684        1\n",
      "859        1\n",
      "1430       1\n",
      "2235       1\n",
      "2584       1\n",
      "758        1\n",
      "2742       1\n",
      "3321       1\n",
      "2226       1\n",
      "3607       1\n",
      "1714       1\n",
      "1709       1\n",
      "3323       1\n",
      "624        1\n",
      "763        1\n",
      "2484       1\n",
      "133        1\n",
      "Name: 1, Length: 3706, dtype: int64\n",
      "4    348971\n",
      "3    261197\n",
      "5    226310\n",
      "2    107557\n",
      "1     56174\n",
      "Name: 2, dtype: int64\n",
      "975528402     30\n",
      "975440712     28\n",
      "975527781     28\n",
      "975528243     27\n",
      "1025585635    27\n",
      "975528115     26\n",
      "975280276     26\n",
      "1025036288    25\n",
      "975280390     25\n",
      "974698015     24\n",
      "991449155     23\n",
      "974852831     23\n",
      "975530491     23\n",
      "974853017     23\n",
      "975528548     23\n",
      "963369744     23\n",
      "974852632     22\n",
      "963369297     22\n",
      "967335791     22\n",
      "975530075     22\n",
      "963369075     22\n",
      "975530631     22\n",
      "975529830     22\n",
      "975529595     22\n",
      "965539989     21\n",
      "975276973     21\n",
      "975528668     21\n",
      "968032000     21\n",
      "974762461     21\n",
      "963368800     21\n",
      "              ..\n",
      "981230402      1\n",
      "965445124      1\n",
      "980700669      1\n",
      "977591791      1\n",
      "975556045      1\n",
      "1034479741     1\n",
      "978732476      1\n",
      "959860157      1\n",
      "995470785      1\n",
      "966015038      1\n",
      "959811013      1\n",
      "968201670      1\n",
      "959737911      1\n",
      "970794020      1\n",
      "1002829258     1\n",
      "982013116      1\n",
      "964997167      1\n",
      "1036309998     1\n",
      "965184049      1\n",
      "966096346      1\n",
      "993349085      1\n",
      "966997211      1\n",
      "974431712      1\n",
      "963979292      1\n",
      "976249354      1\n",
      "968455297      1\n",
      "997817285      1\n",
      "974429671      1\n",
      "959811638      1\n",
      "961546239      1\n",
      "Name: 3, Length: 458455, dtype: int64\n"
     ]
    }
   ],
   "source": [
    "for num in range(len(ratings.columns)):\n",
    "    print(ratings.iloc[:,num].value_counts())"
   ]
  },
  {
   "cell_type": "code",
   "execution_count": 9,
   "metadata": {
    "ExecuteTime": {
     "end_time": "2018-10-31T20:06:06.861784Z",
     "start_time": "2018-10-31T20:06:06.804023Z"
    }
   },
   "outputs": [],
   "source": [
    "training_set = pd.read_csv('ml-100k/u1.base', delimiter='\\t')\n",
    "training_set = np.array(training_set, dtype='int')\n",
    "test_set = pd.read_csv('ml-100k/u1.test', delimiter='\\t')\n",
    "test_set = np.array(test_set, dtype='int')"
   ]
  },
  {
   "cell_type": "markdown",
   "metadata": {},
   "source": [
    "### Getting the number of users and movies"
   ]
  },
  {
   "cell_type": "code",
   "execution_count": null,
   "metadata": {},
   "outputs": [],
   "source": [
    "test_set.reshape()"
   ]
  },
  {
   "cell_type": "code",
   "execution_count": 10,
   "metadata": {
    "ExecuteTime": {
     "end_time": "2018-10-31T04:18:34.849657Z",
     "start_time": "2018-10-31T04:18:34.793782Z"
    }
   },
   "outputs": [],
   "source": [
    "num_users = int(max(max(training_set[:, 0]), max(test_set[:, 0])))\n",
    "num_movies = int(max(max(training_set[:, 1]), max(test_set[:, 1])))"
   ]
  },
  {
   "cell_type": "code",
   "execution_count": 11,
   "metadata": {
    "ExecuteTime": {
     "end_time": "2018-10-31T04:18:40.042100Z",
     "start_time": "2018-10-31T04:18:40.025238Z"
    }
   },
   "outputs": [
    {
     "name": "stdout",
     "output_type": "stream",
     "text": [
      "num users = 943\n",
      "num users = 1682\n"
     ]
    }
   ],
   "source": [
    "print(f'num users = {num_users}')\n",
    "print(f'num users = {num_movies}')"
   ]
  },
  {
   "cell_type": "markdown",
   "metadata": {},
   "source": [
    "### Converting the data into an array with users in lines and movies in columns"
   ]
  },
  {
   "cell_type": "code",
   "execution_count": 12,
   "metadata": {
    "ExecuteTime": {
     "end_time": "2018-10-31T04:18:41.352798Z",
     "start_time": "2018-10-31T04:18:41.120115Z"
    }
   },
   "outputs": [],
   "source": [
    "def convert_(data, num_users, num_movies):\n",
    "    new_data = []\n",
    "    for id_users in range(1, num_users + 1):\n",
    "        id_movies = data[:, 1][data[:, 0] == id_users]\n",
    "        id_ratings = data[:, 2][data[:, 0] == id_users]\n",
    "        ratings = np.zeros(num_movies)\n",
    "        ratings[id_movies - 1] = id_ratings\n",
    "        new_data.append(list(ratings))\n",
    "    return new_data\n",
    "\n",
    "training_set = convert_(training_set, num_users, num_movies)\n",
    "test_set = convert_(test_set, num_users, num_movies)"
   ]
  },
  {
   "cell_type": "markdown",
   "metadata": {},
   "source": [
    "### Converting the data into Torch tensors"
   ]
  },
  {
   "cell_type": "code",
   "execution_count": 13,
   "metadata": {
    "ExecuteTime": {
     "end_time": "2018-10-31T04:18:42.370677Z",
     "start_time": "2018-10-31T04:18:42.281372Z"
    }
   },
   "outputs": [],
   "source": [
    "training_set = torch.FloatTensor(training_set)\n",
    "test_set = torch.FloatTensor(test_set)"
   ]
  },
  {
   "cell_type": "markdown",
   "metadata": {},
   "source": [
    "### Converting the ratings into binary ratings 1 (Liked) or 0 (Not Liked)"
   ]
  },
  {
   "cell_type": "code",
   "execution_count": 14,
   "metadata": {
    "ExecuteTime": {
     "end_time": "2018-10-31T04:18:43.333213Z",
     "start_time": "2018-10-31T04:18:43.046488Z"
    }
   },
   "outputs": [],
   "source": [
    "training_set[training_set <= 1] = -1\n",
    "training_set[training_set == 2] = 0\n",
    "training_set[training_set == 3] = 0\n",
    "training_set[training_set >= 4] = 1\n",
    "test_set[test_set <= 1] = -1\n",
    "test_set[test_set == 2] = 0\n",
    "test_set[test_set == 3] = 0\n",
    "test_set[test_set >= 4] = 1"
   ]
  },
  {
   "cell_type": "markdown",
   "metadata": {},
   "source": [
    "### Creating the architecture of the Neural Network"
   ]
  },
  {
   "cell_type": "markdown",
   "metadata": {},
   "source": [
    "- __nv__ = Number of visible nodes\n",
    "- __nh__ = Number of hidden nodes\n",
    "- __self.W__ = initializes all the nodes in a matrix (nh X nv) on a\n",
    "               normal distribution with mean = 0, variance = 1\n",
    "- __self.a__ = initializes the bias (p(h) given v) <- Bias of hidden nodes\n",
    "- __self.b__ = initializes the bias (p(v) given h) <- Bias of visible nodes\n",
    "- __wx__ = product of two tensors. W is weight of tensors, X is the neuron\n",
    "- __activation__ = linear function of neurons. Product of two tensors + bias expanded as product of two tensors\n",
    "- v0 = input vector - rating from each user\n",
    "- vk = \n",
    "- ph0 = vector of probability\n",
    "- phk = probabilities of hidden vectors"
   ]
  },
  {
   "cell_type": "code",
   "execution_count": 18,
   "metadata": {
    "ExecuteTime": {
     "end_time": "2018-10-31T04:19:32.144222Z",
     "start_time": "2018-10-31T04:19:32.124237Z"
    }
   },
   "outputs": [],
   "source": [
    "class RBM():\n",
    "    def __init__(self, nv, nh):\n",
    "        self.W = torch.randn(nh, nv)\n",
    "        self.a = torch.randn(1, nh)\n",
    "        self.b = torch.randn(1, nv)\n",
    "\n",
    "    def sample_h(self, x):\n",
    "        wx = torch.mm(x, self.W.t())\n",
    "        activation = wx + self.a.expand_as(wx)\n",
    "        p_h_given_v = torch.sigmoid(activation)\n",
    "        return p_h_given_v, torch.bernoulli(p_h_given_v)\n",
    "\n",
    "    def sample_v(self, y):\n",
    "        wy = torch.mm(y, self.W)\n",
    "        activation = wy + self.b.expand_as(wy)\n",
    "        p_v_given_h = torch.sigmoid(activation)\n",
    "        return p_v_given_h, torch.bernoulli(p_v_given_h)\n",
    "\n",
    "    def train(self, v0, vk, ph0, phk):\n",
    "        tester_torch = (torch.mm(v0.t(), ph0) - torch.mm(vk.t(), phk)).t()\n",
    "        self.W += tester_torch\n",
    "        self.b += torch.sum((v0 - vk), 0)\n",
    "        self.a += torch.sum((ph0 - phk), 0)"
   ]
  },
  {
   "cell_type": "markdown",
   "metadata": {},
   "source": [
    "### Training the RBM"
   ]
  },
  {
   "cell_type": "code",
   "execution_count": 24,
   "metadata": {
    "ExecuteTime": {
     "end_time": "2018-10-31T04:21:06.138429Z",
     "start_time": "2018-10-31T04:21:06.122449Z"
    }
   },
   "outputs": [],
   "source": [
    "nv = len(training_set[0])\n",
    "nh = 100\n",
    "batch_size = 29\n",
    "rbm = RBM(nv, nh)\n",
    "num_epoch = 12"
   ]
  },
  {
   "cell_type": "code",
   "execution_count": 25,
   "metadata": {
    "ExecuteTime": {
     "end_time": "2018-10-31T04:21:50.582917Z",
     "start_time": "2018-10-31T04:21:06.681741Z"
    }
   },
   "outputs": [
    {
     "name": "stdout",
     "output_type": "stream",
     "text": [
      "epoch: 1, loss: 0.43191051483154297\n",
      "epoch: 2, loss: 0.4179733991622925\n",
      "epoch: 3, loss: 0.417701780796051\n",
      "epoch: 4, loss: 0.42119625210762024\n",
      "epoch: 5, loss: 0.42068758606910706\n",
      "epoch: 6, loss: 0.4216765761375427\n",
      "epoch: 7, loss: 0.4183974266052246\n",
      "epoch: 8, loss: 0.4204780161380768\n",
      "epoch: 9, loss: 0.4182189404964447\n",
      "epoch: 10, loss: 0.41963592171669006\n",
      "epoch: 11, loss: 0.42202845215797424\n",
      "epoch: 12, loss: 0.4204881191253662\n"
     ]
    }
   ],
   "source": [
    "for epoch in range(1, (num_epoch + 1)):\n",
    "    train_loss = 0\n",
    "    s = 0\n",
    "    for num in range(0, (num_users - batch_size), batch_size):\n",
    "        vk = training_set[num:(num + batch_size)]\n",
    "        v0 = training_set[num:(num + batch_size)]\n",
    "        ph0, _ = rbm.sample_h(v0)\n",
    "        for k in range(10):\n",
    "            _, hk = rbm.sample_h(vk)\n",
    "            _, vk = rbm.sample_v(hk)\n",
    "            vk[v0 < 0] = v0[v0 < 0]\n",
    "        phk, _ = rbm.sample_h(vk)\n",
    "        rbm.train(v0, vk, ph0, phk)\n",
    "        train_loss += torch.mean(torch.abs(v0[v0 >= 0] - vk[v0 >= 0]))\n",
    "        s += 1\n",
    "    print((f'epoch: {epoch}, loss: {train_loss/s}'))"
   ]
  },
  {
   "cell_type": "markdown",
   "metadata": {},
   "source": [
    "### Testing the RBM"
   ]
  },
  {
   "cell_type": "code",
   "execution_count": 26,
   "metadata": {
    "ExecuteTime": {
     "end_time": "2018-10-31T04:21:54.073522Z",
     "start_time": "2018-10-31T04:21:53.888712Z"
    }
   },
   "outputs": [
    {
     "name": "stdout",
     "output_type": "stream",
     "text": [
      "test loss: tensor(0.4428)\n"
     ]
    }
   ],
   "source": [
    "test_loss = 0\n",
    "s = 0.\n",
    "for id_user in range(num_users):\n",
    "    v = training_set[id_user:id_user+1]\n",
    "    vt = test_set[id_user:id_user+1]\n",
    "    if len(vt[vt >= 0]) > 0:\n",
    "        _, h = rbm.sample_h(v)\n",
    "        _, v = rbm.sample_v(h)\n",
    "        test_loss += torch.mean(torch.abs(vt[vt >= 0] - v[vt >= 0]))\n",
    "        s += 1.\n",
    "print('test loss: '+str(test_loss/s))"
   ]
  },
  {
   "cell_type": "code",
   "execution_count": null,
   "metadata": {},
   "outputs": [],
   "source": []
  }
 ],
 "metadata": {
  "kernelspec": {
   "display_name": "Python 3",
   "language": "python",
   "name": "python3"
  },
  "language_info": {
   "codemirror_mode": {
    "name": "ipython",
    "version": 3
   },
   "file_extension": ".py",
   "mimetype": "text/x-python",
   "name": "python",
   "nbconvert_exporter": "python",
   "pygments_lexer": "ipython3",
   "version": "3.6.6"
  }
 },
 "nbformat": 4,
 "nbformat_minor": 2
}
