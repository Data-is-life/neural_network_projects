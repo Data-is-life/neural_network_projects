{
 "cells": [
  {
   "cell_type": "markdown",
   "metadata": {},
   "source": [
    "# Self-Organizing Maps"
   ]
  },
  {
   "cell_type": "code",
   "execution_count": 24,
   "metadata": {
    "ExecuteTime": {
     "end_time": "2018-10-31T01:02:24.287051Z",
     "start_time": "2018-10-31T01:02:23.240655Z"
    }
   },
   "outputs": [
    {
     "name": "stderr",
     "output_type": "stream",
     "text": [
      "Using TensorFlow backend.\n"
     ]
    }
   ],
   "source": [
    "import numpy as np\n",
    "import matplotlib.pyplot as plt\n",
    "import pandas as pd\n",
    "from sklearn.preprocessing import MinMaxScaler\n",
    "from pylab import bone, pcolor, colorbar, plot, show\n",
    "from minisom import MiniSom\n",
    "from sklearn.preprocessing import StandardScaler\n",
    "from keras.models import Sequential\n",
    "from keras.layers import Dense"
   ]
  },
  {
   "cell_type": "code",
   "execution_count": 25,
   "metadata": {
    "ExecuteTime": {
     "end_time": "2018-10-31T01:02:24.318655Z",
     "start_time": "2018-10-31T01:02:24.289468Z"
    }
   },
   "outputs": [],
   "source": [
    "df = pd.read_csv('./Credit_Card_Applications.csv')"
   ]
  },
  {
   "cell_type": "code",
   "execution_count": 26,
   "metadata": {
    "ExecuteTime": {
     "end_time": "2018-10-31T01:02:24.410691Z",
     "start_time": "2018-10-31T01:02:24.320671Z"
    },
    "scrolled": true
   },
   "outputs": [
    {
     "name": "stdout",
     "output_type": "stream",
     "text": [
      "   CustomerID  A1     A2     A3  A4  A5  A6     A7  A8  A9  A10  A11  A12  \\\n",
      "0    15776156   1  22.08  11.46   2   4   4  1.585   0   0    0    1    2   \n",
      "1    15739548   0  22.67   7.00   2   8   4  0.165   0   0    0    0    2   \n",
      "2    15662854   0  29.58   1.75   1   4   4  1.250   0   0    0    1    2   \n",
      "3    15687688   0  21.67  11.50   1   5   3  0.000   1   1   11    1    2   \n",
      "4    15715750   1  20.17   8.17   2   6   4  1.960   1   1   14    0    2   \n",
      "\n",
      "   A13   A14  Class  \n",
      "0  100  1213      0  \n",
      "1  160     1      0  \n",
      "2  280     1      0  \n",
      "3    0     1      1  \n",
      "4   60   159      1  \n",
      "\n",
      "-------------------------------------------------------------------\n",
      "\n",
      "         CustomerID          A1          A2          A3          A4  \\\n",
      "count  6.900000e+02  690.000000  690.000000  690.000000  690.000000   \n",
      "mean   1.569047e+07    0.678261   31.568203    4.758725    1.766667   \n",
      "std    7.150647e+04    0.467482   11.853273    4.978163    0.430063   \n",
      "min    1.556571e+07    0.000000   13.750000    0.000000    1.000000   \n",
      "25%    1.563169e+07    0.000000   22.670000    1.000000    2.000000   \n",
      "50%    1.569016e+07    1.000000   28.625000    2.750000    2.000000   \n",
      "75%    1.575190e+07    1.000000   37.707500    7.207500    2.000000   \n",
      "max    1.581544e+07    1.000000   80.250000   28.000000    3.000000   \n",
      "\n",
      "               A5          A6          A7          A8          A9        A10  \\\n",
      "count  690.000000  690.000000  690.000000  690.000000  690.000000  690.00000   \n",
      "mean     7.372464    4.692754    2.223406    0.523188    0.427536    2.40000   \n",
      "std      3.683265    1.992316    3.346513    0.499824    0.495080    4.86294   \n",
      "min      1.000000    1.000000    0.000000    0.000000    0.000000    0.00000   \n",
      "25%      4.000000    4.000000    0.165000    0.000000    0.000000    0.00000   \n",
      "50%      8.000000    4.000000    1.000000    1.000000    0.000000    0.00000   \n",
      "75%     10.000000    5.000000    2.625000    1.000000    1.000000    3.00000   \n",
      "max     14.000000    9.000000   28.500000    1.000000    1.000000   67.00000   \n",
      "\n",
      "              A11         A12          A13            A14       Class  \n",
      "count  690.000000  690.000000   690.000000     690.000000  690.000000  \n",
      "mean     0.457971    1.928986   184.014493    1018.385507    0.444928  \n",
      "std      0.498592    0.298813   172.159274    5210.102598    0.497318  \n",
      "min      0.000000    1.000000     0.000000       1.000000    0.000000  \n",
      "25%      0.000000    2.000000    80.000000       1.000000    0.000000  \n",
      "50%      0.000000    2.000000   160.000000       6.000000    0.000000  \n",
      "75%      1.000000    2.000000   272.000000     396.500000    1.000000  \n",
      "max      1.000000    3.000000  2000.000000  100001.000000    1.000000  \n",
      "\n",
      "-------------------------------------------------------------------\n",
      "\n",
      "<class 'pandas.core.frame.DataFrame'>\n",
      "RangeIndex: 690 entries, 0 to 689\n",
      "Data columns (total 16 columns):\n",
      "CustomerID    690 non-null int64\n",
      "A1            690 non-null int64\n",
      "A2            690 non-null float64\n",
      "A3            690 non-null float64\n",
      "A4            690 non-null int64\n",
      "A5            690 non-null int64\n",
      "A6            690 non-null int64\n",
      "A7            690 non-null float64\n",
      "A8            690 non-null int64\n",
      "A9            690 non-null int64\n",
      "A10           690 non-null int64\n",
      "A11           690 non-null int64\n",
      "A12           690 non-null int64\n",
      "A13           690 non-null int64\n",
      "A14           690 non-null int64\n",
      "Class         690 non-null int64\n",
      "dtypes: float64(3), int64(13)\n",
      "memory usage: 86.3 KB\n",
      "None\n",
      "\n",
      "-------------------------------------------------------------------\n",
      "\n",
      "Index(['CustomerID', 'A1', 'A2', 'A3', 'A4', 'A5', 'A6', 'A7', 'A8', 'A9',\n",
      "       'A10', 'A11', 'A12', 'A13', 'A14', 'Class'],\n",
      "      dtype='object')\n"
     ]
    }
   ],
   "source": [
    "print(f'{df.head()}')\n",
    "print('\\n-------------------------------------------------------------------\\n')\n",
    "print(f'{df.describe()}')\n",
    "print('\\n-------------------------------------------------------------------\\n')\n",
    "print(f'{df.info()}')\n",
    "print('\\n-------------------------------------------------------------------\\n')\n",
    "print(f'{df.columns}')"
   ]
  },
  {
   "cell_type": "code",
   "execution_count": 27,
   "metadata": {
    "ExecuteTime": {
     "end_time": "2018-10-31T01:02:24.438996Z",
     "start_time": "2018-10-31T01:02:24.414603Z"
    }
   },
   "outputs": [],
   "source": [
    "X = df.iloc[:, :-1].values\n",
    "y = df.iloc[:, -1].values"
   ]
  },
  {
   "cell_type": "markdown",
   "metadata": {},
   "source": [
    "### Feature Scaling"
   ]
  },
  {
   "cell_type": "code",
   "execution_count": 28,
   "metadata": {
    "ExecuteTime": {
     "end_time": "2018-10-31T01:02:24.466636Z",
     "start_time": "2018-10-31T01:02:24.441543Z"
    }
   },
   "outputs": [],
   "source": [
    "sc = MinMaxScaler(feature_range=(0, 1))\n",
    "X = sc.fit_transform(X)"
   ]
  },
  {
   "cell_type": "code",
   "execution_count": 108,
   "metadata": {
    "ExecuteTime": {
     "end_time": "2018-10-31T01:24:47.533318Z",
     "start_time": "2018-10-31T01:24:47.504811Z"
    }
   },
   "outputs": [
    {
     "data": {
      "text/plain": [
       "array([4.67143514e-01, 1.18446803e+01, 4.97455458e+00, 4.29751080e-01,\n",
       "       3.68059479e+00, 1.99087184e+00, 3.34408747e+00, 4.99462008e-01,\n",
       "       4.94721136e-01, 4.85941489e+00, 4.98230433e-01, 2.98596451e-01,\n",
       "       1.72034475e+02, 5.20632579e+03, 4.96957769e-01])"
      ]
     },
     "execution_count": 108,
     "metadata": {},
     "output_type": "execute_result"
    }
   ],
   "source": [
    "sc.scale_"
   ]
  },
  {
   "cell_type": "markdown",
   "metadata": {},
   "source": [
    "### Training the SOM"
   ]
  },
  {
   "cell_type": "code",
   "execution_count": 45,
   "metadata": {
    "ExecuteTime": {
     "end_time": "2018-10-31T01:03:44.129256Z",
     "start_time": "2018-10-31T01:03:42.978504Z"
    }
   },
   "outputs": [],
   "source": [
    "som = MiniSom(x=10, y=10, input_len=15, sigma=1, learning_rate=0.05)\n",
    "som.random_weights_init(X)\n",
    "som.train_random(data=X, num_iteration=1000)"
   ]
  },
  {
   "cell_type": "markdown",
   "metadata": {},
   "source": [
    "### Visualizing the results"
   ]
  },
  {
   "cell_type": "code",
   "execution_count": 70,
   "metadata": {
    "ExecuteTime": {
     "end_time": "2018-10-31T01:14:31.595340Z",
     "start_time": "2018-10-31T01:14:29.720882Z"
    },
    "scrolled": true
   },
   "outputs": [
    {
     "data": {
      "image/png": "[encoded data removed]",
      "text/plain": [
       "<Figure size 432x288 with 2 Axes>"
      ]
     },
     "metadata": {
      "needs_background": "light"
     },
     "output_type": "display_data"
    }
   ],
   "source": [
    "bone()\n",
    "pcolor(som.distance_map().T)\n",
    "colorbar()\n",
    "markers = ['o', '1']\n",
    "colors = ['r', 'g']\n",
    "for i, x in enumerate(X):\n",
    "    w = som.winner(x)\n",
    "    plot(w[0] + 0.5, w[1] + 0.5, markers[y[i]],\n",
    "         markeredgecolor=colors[y[i]],\n",
    "         markerfacecolor='None', markersize=10,\n",
    "         markeredgewidth=1)\n",
    "show()"
   ]
  },
  {
   "cell_type": "markdown",
   "metadata": {},
   "source": [
    "### Finding the frauds"
   ]
  },
  {
   "cell_type": "code",
   "execution_count": 72,
   "metadata": {
    "ExecuteTime": {
     "end_time": "2018-10-31T01:15:09.817189Z",
     "start_time": "2018-10-31T01:15:09.687587Z"
    }
   },
   "outputs": [],
   "source": [
    "mappings = som.win_map(X)\n",
    "frauds = np.concatenate((mappings[(4,5)], mappings[(5,3)], mappings[(6,2)]), axis=0)\n",
    "frauds = sc.inverse_transform(frauds)"
   ]
  },
  {
   "cell_type": "markdown",
   "metadata": {},
   "source": [
    "# Part 2: Adding ANN"
   ]
  },
  {
   "cell_type": "code",
   "execution_count": 85,
   "metadata": {
    "ExecuteTime": {
     "end_time": "2018-10-31T01:17:16.126126Z",
     "start_time": "2018-10-31T01:17:16.105024Z"
    }
   },
   "outputs": [],
   "source": [
    "customers = df.iloc[:, 1:].values"
   ]
  },
  {
   "cell_type": "markdown",
   "metadata": {
    "ExecuteTime": {
     "end_time": "2018-10-31T00:59:48.126821Z",
     "start_time": "2018-10-31T00:59:48.108908Z"
    }
   },
   "source": [
    "### Creating the dependent variable"
   ]
  },
  {
   "cell_type": "code",
   "execution_count": 86,
   "metadata": {
    "ExecuteTime": {
     "end_time": "2018-10-31T01:17:17.525814Z",
     "start_time": "2018-10-31T01:17:17.487022Z"
    }
   },
   "outputs": [],
   "source": [
    "is_fraud = np.zeros(len(df))\n",
    "for i in range(len(df)):\n",
    "    if df.iloc[i,0] in frauds:\n",
    "        is_fraud[i] = 1"
   ]
  },
  {
   "cell_type": "markdown",
   "metadata": {},
   "source": [
    "### Feature Scaling"
   ]
  },
  {
   "cell_type": "code",
   "execution_count": 87,
   "metadata": {
    "ExecuteTime": {
     "end_time": "2018-10-31T01:17:18.754365Z",
     "start_time": "2018-10-31T01:17:18.729677Z"
    }
   },
   "outputs": [],
   "source": [
    "sc = StandardScaler()\n",
    "customers = sc.fit_transform(customers)"
   ]
  },
  {
   "cell_type": "markdown",
   "metadata": {},
   "source": [
    "### Initializing the ANN"
   ]
  },
  {
   "cell_type": "code",
   "execution_count": 88,
   "metadata": {
    "ExecuteTime": {
     "end_time": "2018-10-31T01:17:19.710829Z",
     "start_time": "2018-10-31T01:17:19.688264Z"
    }
   },
   "outputs": [],
   "source": [
    "classifier = Sequential()"
   ]
  },
  {
   "cell_type": "markdown",
   "metadata": {},
   "source": [
    "### Adding the input layer and the first hidden layer"
   ]
  },
  {
   "cell_type": "code",
   "execution_count": 89,
   "metadata": {
    "ExecuteTime": {
     "end_time": "2018-10-31T01:17:20.499946Z",
     "start_time": "2018-10-31T01:17:20.462831Z"
    }
   },
   "outputs": [],
   "source": [
    "classifier.add(Dense(units = 2, kernel_initializer = 'uniform', activation = 'relu', input_dim = 15))"
   ]
  },
  {
   "cell_type": "markdown",
   "metadata": {},
   "source": [
    "### Adding the output layer"
   ]
  },
  {
   "cell_type": "code",
   "execution_count": 90,
   "metadata": {
    "ExecuteTime": {
     "end_time": "2018-10-31T01:17:21.238656Z",
     "start_time": "2018-10-31T01:17:21.206011Z"
    }
   },
   "outputs": [],
   "source": [
    "classifier.add(Dense(units = 1, kernel_initializer = 'uniform', activation = 'sigmoid'))"
   ]
  },
  {
   "cell_type": "markdown",
   "metadata": {},
   "source": [
    "### Compiling the ANN"
   ]
  },
  {
   "cell_type": "code",
   "execution_count": 91,
   "metadata": {
    "ExecuteTime": {
     "end_time": "2018-10-31T01:17:30.180049Z",
     "start_time": "2018-10-31T01:17:30.124836Z"
    }
   },
   "outputs": [],
   "source": [
    "classifier.compile(optimizer = 'adam', loss = 'binary_crossentropy', metrics = ['accuracy'])"
   ]
  },
  {
   "cell_type": "markdown",
   "metadata": {},
   "source": [
    "### Fitting the ANN to the Training set"
   ]
  },
  {
   "cell_type": "code",
   "execution_count": 92,
   "metadata": {
    "ExecuteTime": {
     "end_time": "2018-10-31T01:17:34.899891Z",
     "start_time": "2018-10-31T01:17:31.109754Z"
    }
   },
   "outputs": [
    {
     "name": "stdout",
     "output_type": "stream",
     "text": [
      "Epoch 1/2\n",
      "690/690 [==============================] - 2s 3ms/step - loss: 0.4226 - acc: 1.0000\n",
      "Epoch 2/2\n",
      "690/690 [==============================] - 1s 2ms/step - loss: 0.0711 - acc: 1.0000\n"
     ]
    },
    {
     "data": {
      "text/plain": [
       "<keras.callbacks.History at 0x7f625a8d1cf8>"
      ]
     },
     "execution_count": 92,
     "metadata": {},
     "output_type": "execute_result"
    }
   ],
   "source": [
    "classifier.fit(customers, is_fraud, batch_size = 1, epochs = 2)"
   ]
  },
  {
   "cell_type": "markdown",
   "metadata": {},
   "source": [
    "### Predicting the probabilities of frauds"
   ]
  },
  {
   "cell_type": "code",
   "execution_count": 103,
   "metadata": {
    "ExecuteTime": {
     "end_time": "2018-10-31T01:20:31.854981Z",
     "start_time": "2018-10-31T01:20:31.783693Z"
    }
   },
   "outputs": [],
   "source": [
    "y_pred = classifier.predict(customers)\n",
    "y_pred = np.concatenate((df.iloc[:, 0:1].values, y_pred), axis = 1)\n",
    "y_pred = y_pred[y_pred[:, 1].argsort()]\n",
    "y_pred = [[round(i,4) for i in num] for num in y_pred]\n",
    "y_pred.reverse()"
   ]
  },
  {
   "cell_type": "code",
   "execution_count": 114,
   "metadata": {
    "ExecuteTime": {
     "end_time": "2018-10-31T01:26:46.405288Z",
     "start_time": "2018-10-31T01:26:46.359970Z"
    }
   },
   "outputs": [
    {
     "data": {
      "text/plain": [
       "[[15725776.0, 0.1949],\n",
       " [15767264.0, 0.1409],\n",
       " [15736399.0, 0.1287],\n",
       " [15664793.0, 0.118],\n",
       " [15586174.0, 0.1146],\n",
       " [15790113.0, 0.1091],\n",
       " [15744044.0, 0.1054],\n",
       " [15594133.0, 0.1046],\n",
       " [15573520.0, 0.1031],\n",
       " [15647191.0, 0.0988],\n",
       " [15772329.0, 0.0981],\n",
       " [15719940.0, 0.0882],\n",
       " [15569595.0, 0.0862],\n",
       " [15692408.0, 0.0853],\n",
       " [15705379.0, 0.0835],\n",
       " [15716347.0, 0.0823],\n",
       " [15647295.0, 0.0793],\n",
       " [15769356.0, 0.0777],\n",
       " [15692137.0, 0.0743],\n",
       " [15784526.0, 0.0735],\n",
       " [15735572.0, 0.0726],\n",
       " [15682540.0, 0.0718],\n",
       " [15686461.0, 0.071],\n",
       " [15748649.0, 0.0709],\n",
       " [15592412.0, 0.0692],\n",
       " [15761854.0, 0.0691],\n",
       " [15636626.0, 0.067],\n",
       " [15576680.0, 0.0666],\n",
       " [15667934.0, 0.0662],\n",
       " [15726167.0, 0.0662],\n",
       " [15686885.0, 0.0647],\n",
       " [15666096.0, 0.0636],\n",
       " [15770995.0, 0.0635],\n",
       " [15764922.0, 0.0629],\n",
       " [15580914.0, 0.0617],\n",
       " [15747757.0, 0.0614],\n",
       " [15670029.0, 0.0612],\n",
       " [15690372.0, 0.0612],\n",
       " [15799859.0, 0.0602],\n",
       " [15690169.0, 0.0595],\n",
       " [15765487.0, 0.058],\n",
       " [15710138.0, 0.0577],\n",
       " [15813718.0, 0.0577],\n",
       " [15815271.0, 0.0576],\n",
       " [15664615.0, 0.0569],\n",
       " [15801817.0, 0.0566],\n",
       " [15676909.0, 0.0565],\n",
       " [15800773.0, 0.0565],\n",
       " [15773789.0, 0.0564],\n",
       " [15645820.0, 0.0557],\n",
       " [15711249.0, 0.0552],\n",
       " [15801072.0, 0.0551],\n",
       " [15802106.0, 0.055],\n",
       " [15665181.0, 0.0544],\n",
       " [15684512.0, 0.0543],\n",
       " [15573798.0, 0.0541],\n",
       " [15701687.0, 0.054],\n",
       " [15736510.0, 0.0534],\n",
       " [15808386.0, 0.0534],\n",
       " [15646563.0, 0.0531],\n",
       " [15811742.0, 0.0528],\n",
       " [15570508.0, 0.0527],\n",
       " [15681509.0, 0.0513],\n",
       " [15642336.0, 0.0512],\n",
       " [15750104.0, 0.0507],\n",
       " [15658504.0, 0.0507],\n",
       " [15793896.0, 0.0506],\n",
       " [15706268.0, 0.0506],\n",
       " [15804235.0, 0.0504],\n",
       " [15753591.0, 0.0503],\n",
       " [15763194.0, 0.0503],\n",
       " [15689786.0, 0.0502],\n",
       " [15631693.0, 0.0499],\n",
       " [15701738.0, 0.0498],\n",
       " [15572390.0, 0.0497],\n",
       " [15627699.0, 0.0496],\n",
       " [15793825.0, 0.0493],\n",
       " [15680895.0, 0.0491],\n",
       " [15750476.0, 0.0489],\n",
       " [15725002.0, 0.0487],\n",
       " [15607986.0, 0.0483],\n",
       " [15588123.0, 0.0481],\n",
       " [15607988.0, 0.0476],\n",
       " [15692718.0, 0.0476],\n",
       " [15599440.0, 0.0471],\n",
       " [15699238.0, 0.0468],\n",
       " [15608595.0, 0.0468],\n",
       " [15590434.0, 0.0466],\n",
       " [15712877.0, 0.0464],\n",
       " [15660871.0, 0.0458],\n",
       " [15627328.0, 0.0455],\n",
       " [15775235.0, 0.0452],\n",
       " [15757933.0, 0.0452],\n",
       " [15704581.0, 0.045],\n",
       " [15638610.0, 0.0449],\n",
       " [15776545.0, 0.0448],\n",
       " [15588019.0, 0.0448],\n",
       " [15632503.0, 0.0447],\n",
       " [15702149.0, 0.0443],\n",
       " [15762716.0, 0.0442],\n",
       " [15630592.0, 0.0441],\n",
       " [15621244.0, 0.0434],\n",
       " [15770406.0, 0.0434],\n",
       " [15586183.0, 0.0434],\n",
       " [15667588.0, 0.0432],\n",
       " [15790630.0, 0.0431],\n",
       " [15583724.0, 0.0428],\n",
       " [15627365.0, 0.0428],\n",
       " [15805212.0, 0.0427],\n",
       " [15696361.0, 0.0426],\n",
       " [15632010.0, 0.0426],\n",
       " [15620832.0, 0.0426],\n",
       " [15751167.0, 0.0426],\n",
       " [15781975.0, 0.0425],\n",
       " [15801441.0, 0.0425],\n",
       " [15638983.0, 0.0422],\n",
       " [15575430.0, 0.042],\n",
       " [15575605.0, 0.042],\n",
       " [15789865.0, 0.0415],\n",
       " [15674583.0, 0.0414],\n",
       " [15617348.0, 0.0413],\n",
       " [15815040.0, 0.0412],\n",
       " [15677395.0, 0.0412],\n",
       " [15736533.0, 0.0411],\n",
       " [15781574.0, 0.0411],\n",
       " [15730287.0, 0.041],\n",
       " [15810716.0, 0.0407],\n",
       " [15642934.0, 0.0407],\n",
       " [15767358.0, 0.0406],\n",
       " [15609356.0, 0.0405],\n",
       " [15668889.0, 0.0404],\n",
       " [15622507.0, 0.0404],\n",
       " [15700549.0, 0.0404],\n",
       " [15789014.0, 0.0404],\n",
       " [15776156.0, 0.04],\n",
       " [15610042.0, 0.0398],\n",
       " [15776921.0, 0.0397],\n",
       " [15649379.0, 0.0397],\n",
       " [15587443.0, 0.0395],\n",
       " [15687688.0, 0.0391],\n",
       " [15615832.0, 0.0391],\n",
       " [15570990.0, 0.039],\n",
       " [15773934.0, 0.0388],\n",
       " [15575243.0, 0.0387],\n",
       " [15782159.0, 0.0385],\n",
       " [15793366.0, 0.0385],\n",
       " [15797767.0, 0.0383],\n",
       " [15590234.0, 0.0382],\n",
       " [15591010.0, 0.0378],\n",
       " [15587297.0, 0.0375],\n",
       " [15622729.0, 0.0374],\n",
       " [15775750.0, 0.0371],\n",
       " [15805627.0, 0.0369],\n",
       " [15666297.0, 0.0368],\n",
       " [15593694.0, 0.0367],\n",
       " [15740458.0, 0.0367],\n",
       " [15711759.0, 0.0367],\n",
       " [15694237.0, 0.0365],\n",
       " [15791944.0, 0.0363],\n",
       " [15788224.0, 0.0362],\n",
       " [15802071.0, 0.0362],\n",
       " [15662189.0, 0.0362],\n",
       " [15623072.0, 0.0361],\n",
       " [15655464.0, 0.036],\n",
       " [15687634.0, 0.0359],\n",
       " [15762799.0, 0.0359],\n",
       " [15700300.0, 0.0358],\n",
       " [15762392.0, 0.0357],\n",
       " [15788442.0, 0.0357],\n",
       " [15744273.0, 0.0356],\n",
       " [15611318.0, 0.0353],\n",
       " [15749964.0, 0.0351],\n",
       " [15718921.0, 0.035],\n",
       " [15618703.0, 0.0349],\n",
       " [15754578.0, 0.0349],\n",
       " [15735330.0, 0.0349],\n",
       " [15702571.0, 0.0348],\n",
       " [15808662.0, 0.0348],\n",
       " [15728906.0, 0.0347],\n",
       " [15737627.0, 0.0346],\n",
       " [15780088.0, 0.0346],\n",
       " [15750545.0, 0.0345],\n",
       " [15642448.0, 0.0345],\n",
       " [15573077.0, 0.0344],\n",
       " [15620570.0, 0.0344],\n",
       " [15748499.0, 0.0344],\n",
       " [15641007.0, 0.0344],\n",
       " [15591552.0, 0.0343],\n",
       " [15598574.0, 0.0343],\n",
       " [15690153.0, 0.0342],\n",
       " [15805261.0, 0.0341],\n",
       " [15802869.0, 0.034],\n",
       " [15786539.0, 0.0338],\n",
       " [15594651.0, 0.0338],\n",
       " [15707681.0, 0.0338],\n",
       " [15575146.0, 0.0337],\n",
       " [15796813.0, 0.0337],\n",
       " [15665087.0, 0.0336],\n",
       " [15652048.0, 0.0336],\n",
       " [15711742.0, 0.0335],\n",
       " [15691150.0, 0.0334],\n",
       " [15734649.0, 0.0334],\n",
       " [15708714.0, 0.0333],\n",
       " [15768342.0, 0.0332],\n",
       " [15625501.0, 0.0332],\n",
       " [15737998.0, 0.0332],\n",
       " [15633944.0, 0.0331],\n",
       " [15636562.0, 0.0331],\n",
       " [15748986.0, 0.0331],\n",
       " [15812470.0, 0.0331],\n",
       " [15740487.0, 0.0331],\n",
       " [15704315.0, 0.033],\n",
       " [15631451.0, 0.033],\n",
       " [15763579.0, 0.0329],\n",
       " [15763108.0, 0.0329],\n",
       " [15586479.0, 0.0329],\n",
       " [15683993.0, 0.0328],\n",
       " [15659031.0, 0.0327],\n",
       " [15638989.0, 0.0326],\n",
       " [15696120.0, 0.0326],\n",
       " [15690492.0, 0.0325],\n",
       " [15803682.0, 0.0325],\n",
       " [15745804.0, 0.0324],\n",
       " [15698522.0, 0.0323],\n",
       " [15680643.0, 0.0322],\n",
       " [15793317.0, 0.0322],\n",
       " [15608804.0, 0.0319],\n",
       " [15621546.0, 0.0318],\n",
       " [15599272.0, 0.0318],\n",
       " [15764226.0, 0.0318],\n",
       " [15687527.0, 0.0318],\n",
       " [15810485.0, 0.0318],\n",
       " [15729718.0, 0.0318],\n",
       " [15609070.0, 0.0316],\n",
       " [15751137.0, 0.0316],\n",
       " [15578722.0, 0.0316],\n",
       " [15729771.0, 0.0315],\n",
       " [15752139.0, 0.0315],\n",
       " [15800554.0, 0.0315],\n",
       " [15646082.0, 0.0314],\n",
       " [15600027.0, 0.0314],\n",
       " [15641733.0, 0.0313],\n",
       " [15632789.0, 0.0313],\n",
       " [15646535.0, 0.0312],\n",
       " [15788131.0, 0.0311],\n",
       " [15568469.0, 0.0311],\n",
       " [15768295.0, 0.0311],\n",
       " [15592773.0, 0.031],\n",
       " [15699963.0, 0.031],\n",
       " [15697460.0, 0.031],\n",
       " [15687765.0, 0.0309],\n",
       " [15730150.0, 0.0309],\n",
       " [15591107.0, 0.0308],\n",
       " [15715907.0, 0.0307],\n",
       " [15729377.0, 0.0307],\n",
       " [15766734.0, 0.0306],\n",
       " [15748532.0, 0.0306],\n",
       " [15758477.0, 0.0306],\n",
       " [15649430.0, 0.0304],\n",
       " [15709252.0, 0.0304],\n",
       " [15734578.0, 0.0302],\n",
       " [15585928.0, 0.0302],\n",
       " [15679801.0, 0.03],\n",
       " [15580366.0, 0.0299],\n",
       " [15808223.0, 0.0298],\n",
       " [15796569.0, 0.0298],\n",
       " [15768449.0, 0.0297],\n",
       " [15716276.0, 0.0297],\n",
       " [15629133.0, 0.0296],\n",
       " [15740411.0, 0.0296],\n",
       " [15762045.0, 0.0296],\n",
       " [15594305.0, 0.0295],\n",
       " [15569682.0, 0.0295],\n",
       " [15579583.0, 0.0294],\n",
       " [15800049.0, 0.0294],\n",
       " [15678210.0, 0.0294],\n",
       " [15654760.0, 0.0293],\n",
       " [15720725.0, 0.0292],\n",
       " [15598266.0, 0.0292],\n",
       " [15571571.0, 0.0292],\n",
       " [15677112.0, 0.0292],\n",
       " [15646190.0, 0.0292],\n",
       " [15623369.0, 0.0291],\n",
       " [15565714.0, 0.0291],\n",
       " [15690898.0, 0.0289],\n",
       " [15750055.0, 0.0289],\n",
       " [15651460.0, 0.0288],\n",
       " [15786237.0, 0.0288],\n",
       " [15657228.0, 0.0288],\n",
       " [15624595.0, 0.0287],\n",
       " [15731166.0, 0.0287],\n",
       " [15717700.0, 0.0286],\n",
       " [15567839.0, 0.0285],\n",
       " [15717065.0, 0.0283],\n",
       " [15663194.0, 0.0283],\n",
       " [15607746.0, 0.0283],\n",
       " [15761158.0, 0.0282],\n",
       " [15731586.0, 0.0282],\n",
       " [15666166.0, 0.0281],\n",
       " [15809800.0, 0.0281],\n",
       " [15740356.0, 0.0281],\n",
       " [15598586.0, 0.028],\n",
       " [15594812.0, 0.028],\n",
       " [15575438.0, 0.0279],\n",
       " [15715519.0, 0.0278],\n",
       " [15722535.0, 0.0278],\n",
       " [15807546.0, 0.0277],\n",
       " [15580579.0, 0.0277],\n",
       " [15721569.0, 0.0277],\n",
       " [15647898.0, 0.0276],\n",
       " [15663942.0, 0.0274],\n",
       " [15812766.0, 0.0274],\n",
       " [15596165.0, 0.0274],\n",
       " [15591248.0, 0.0274],\n",
       " [15617991.0, 0.0274],\n",
       " [15593345.0, 0.0273],\n",
       " [15732943.0, 0.0273],\n",
       " [15659100.0, 0.0273],\n",
       " [15583067.0, 0.0273],\n",
       " [15603565.0, 0.0273],\n",
       " [15567834.0, 0.0273],\n",
       " [15648876.0, 0.0272],\n",
       " [15782089.0, 0.0272],\n",
       " [15668830.0, 0.0272],\n",
       " [15783883.0, 0.0271],\n",
       " [15767231.0, 0.027],\n",
       " [15632275.0, 0.027],\n",
       " [15795527.0, 0.027],\n",
       " [15688210.0, 0.0269],\n",
       " [15587266.0, 0.0269],\n",
       " [15705506.0, 0.0269],\n",
       " [15723884.0, 0.0269],\n",
       " [15684722.0, 0.0269],\n",
       " [15704081.0, 0.0268],\n",
       " [15705343.0, 0.0268],\n",
       " [15605791.0, 0.0268],\n",
       " [15673238.0, 0.0267],\n",
       " [15796111.0, 0.0266],\n",
       " [15737909.0, 0.0265],\n",
       " [15808023.0, 0.0265],\n",
       " [15660528.0, 0.0265],\n",
       " [15814116.0, 0.0265],\n",
       " [15633608.0, 0.0265],\n",
       " [15705918.0, 0.0264],\n",
       " [15730673.0, 0.0264],\n",
       " [15756538.0, 0.0264],\n",
       " [15771856.0, 0.0264],\n",
       " [15650591.0, 0.0263],\n",
       " [15598802.0, 0.0263],\n",
       " [15604536.0, 0.0262],\n",
       " [15768600.0, 0.0262],\n",
       " [15741633.0, 0.0261],\n",
       " [15728523.0, 0.0261],\n",
       " [15753550.0, 0.0261],\n",
       " [15637891.0, 0.0261],\n",
       " [15650313.0, 0.0261],\n",
       " [15723989.0, 0.0261],\n",
       " [15700511.0, 0.0261],\n",
       " [15761047.0, 0.026],\n",
       " [15700046.0, 0.026],\n",
       " [15686913.0, 0.026],\n",
       " [15724851.0, 0.026],\n",
       " [15785367.0, 0.0259],\n",
       " [15699294.0, 0.0258],\n",
       " [15789201.0, 0.0258],\n",
       " [15770255.0, 0.0257],\n",
       " [15795690.0, 0.0257],\n",
       " [15706637.0, 0.0257],\n",
       " [15644453.0, 0.0256],\n",
       " [15721507.0, 0.0256],\n",
       " [15672432.0, 0.0255],\n",
       " [15675926.0, 0.0255],\n",
       " [15672912.0, 0.0255],\n",
       " [15772941.0, 0.0254],\n",
       " [15790254.0, 0.0254],\n",
       " [15797246.0, 0.0251],\n",
       " [15679394.0, 0.0251],\n",
       " [15571081.0, 0.0251],\n",
       " [15809837.0, 0.0251],\n",
       " [15644878.0, 0.0251],\n",
       " [15567860.0, 0.0251],\n",
       " [15597709.0, 0.025],\n",
       " [15745375.0, 0.025],\n",
       " [15811690.0, 0.0249],\n",
       " [15713160.0, 0.0248],\n",
       " [15794868.0, 0.0248],\n",
       " [15638871.0, 0.0247],\n",
       " [15583552.0, 0.0247],\n",
       " [15609823.0, 0.0246],\n",
       " [15638751.0, 0.0246],\n",
       " [15683168.0, 0.0246],\n",
       " [15587038.0, 0.0246],\n",
       " [15796413.0, 0.0245],\n",
       " [15622083.0, 0.0245],\n",
       " [15604130.0, 0.0245],\n",
       " [15812918.0, 0.0245],\n",
       " [15690772.0, 0.0244],\n",
       " [15652658.0, 0.0244],\n",
       " [15682860.0, 0.0244],\n",
       " [15670646.0, 0.0244],\n",
       " [15624423.0, 0.0244],\n",
       " [15759133.0, 0.0244],\n",
       " [15671014.0, 0.0243],\n",
       " [15709459.0, 0.0243],\n",
       " [15649101.0, 0.0243],\n",
       " [15635598.0, 0.0243],\n",
       " [15597536.0, 0.0242],\n",
       " [15641715.0, 0.0241],\n",
       " [15618410.0, 0.0241],\n",
       " [15681755.0, 0.024],\n",
       " [15614813.0, 0.0239],\n",
       " [15591035.0, 0.0239],\n",
       " [15777893.0, 0.0238],\n",
       " [15567919.0, 0.0238],\n",
       " [15611189.0, 0.0238],\n",
       " [15629750.0, 0.0238],\n",
       " [15664720.0, 0.0238],\n",
       " [15632669.0, 0.0237],\n",
       " [15675450.0, 0.0237],\n",
       " [15671769.0, 0.0236],\n",
       " [15752578.0, 0.0236],\n",
       " [15715750.0, 0.0235],\n",
       " [15788776.0, 0.0235],\n",
       " [15673907.0, 0.0235],\n",
       " [15636478.0, 0.0234],\n",
       " [15785339.0, 0.0234],\n",
       " [15733602.0, 0.0233],\n",
       " [15671582.0, 0.0232],\n",
       " [15604196.0, 0.0231],\n",
       " [15711635.0, 0.0231],\n",
       " [15642001.0, 0.0231],\n",
       " [15773869.0, 0.0231],\n",
       " [15672357.0, 0.0231],\n",
       " [15645571.0, 0.023],\n",
       " [15783859.0, 0.023],\n",
       " [15730360.0, 0.023],\n",
       " [15711977.0, 0.023],\n",
       " [15778142.0, 0.0229],\n",
       " [15713250.0, 0.0229],\n",
       " [15785705.0, 0.0228],\n",
       " [15761733.0, 0.0228],\n",
       " [15766183.0, 0.0226],\n",
       " [15748552.0, 0.0225],\n",
       " [15757306.0, 0.0225],\n",
       " [15815095.0, 0.0225],\n",
       " [15638272.0, 0.0225],\n",
       " [15609758.0, 0.0224],\n",
       " [15618258.0, 0.0223],\n",
       " [15642063.0, 0.0223],\n",
       " [15766906.0, 0.0223],\n",
       " [15606554.0, 0.0223],\n",
       " [15680901.0, 0.0223],\n",
       " [15757188.0, 0.0223],\n",
       " [15765093.0, 0.0222],\n",
       " [15640521.0, 0.0222],\n",
       " [15742009.0, 0.0221],\n",
       " [15662152.0, 0.0221],\n",
       " [15810723.0, 0.0221],\n",
       " [15739548.0, 0.022],\n",
       " [15653147.0, 0.0219],\n",
       " [15660263.0, 0.0219],\n",
       " [15689692.0, 0.0219],\n",
       " [15764841.0, 0.0219],\n",
       " [15703177.0, 0.0219],\n",
       " [15565996.0, 0.0218],\n",
       " [15694530.0, 0.0217],\n",
       " [15589541.0, 0.0217],\n",
       " [15623668.0, 0.0217],\n",
       " [15635244.0, 0.0217],\n",
       " [15737542.0, 0.0217],\n",
       " [15813192.0, 0.0216],\n",
       " [15581700.0, 0.0216],\n",
       " [15674750.0, 0.0215],\n",
       " [15752601.0, 0.0214],\n",
       " [15673747.0, 0.0214],\n",
       " [15779586.0, 0.0213],\n",
       " [15774262.0, 0.0213],\n",
       " [15688264.0, 0.0213],\n",
       " [15613673.0, 0.0213],\n",
       " [15604963.0, 0.0213],\n",
       " [15748691.0, 0.0212],\n",
       " [15666012.0, 0.0212],\n",
       " [15738487.0, 0.0212],\n",
       " [15588854.0, 0.0211],\n",
       " [15720529.0, 0.0211],\n",
       " [15577771.0, 0.0211],\n",
       " [15682576.0, 0.0211],\n",
       " [15769548.0, 0.021],\n",
       " [15798895.0, 0.0209],\n",
       " [15672894.0, 0.0207],\n",
       " [15809909.0, 0.0207],\n",
       " [15596797.0, 0.0207],\n",
       " [15631685.0, 0.0205],\n",
       " [15655658.0, 0.0205],\n",
       " [15605341.0, 0.0205],\n",
       " [15568878.0, 0.0205],\n",
       " [15787693.0, 0.0205],\n",
       " [15702030.0, 0.0204],\n",
       " [15643574.0, 0.0204],\n",
       " [15693382.0, 0.0204],\n",
       " [15667451.0, 0.0204],\n",
       " [15701081.0, 0.0204],\n",
       " [15706602.0, 0.0204],\n",
       " [15698749.0, 0.0203],\n",
       " [15605276.0, 0.0203],\n",
       " [15684440.0, 0.0203],\n",
       " [15671293.0, 0.0203],\n",
       " [15654625.0, 0.0202],\n",
       " [15813363.0, 0.0202],\n",
       " [15746258.0, 0.0202],\n",
       " [15698271.0, 0.0202],\n",
       " [15790689.0, 0.0202],\n",
       " [15664083.0, 0.0201],\n",
       " [15615176.0, 0.0201],\n",
       " [15771409.0, 0.0201],\n",
       " [15722479.0, 0.02],\n",
       " [15769980.0, 0.02],\n",
       " [15571121.0, 0.02],\n",
       " [15692430.0, 0.02],\n",
       " [15585192.0, 0.02],\n",
       " [15591360.0, 0.0199],\n",
       " [15678779.0, 0.0198],\n",
       " [15624850.0, 0.0198],\n",
       " [15761554.0, 0.0197],\n",
       " [15788634.0, 0.0196],\n",
       " [15781875.0, 0.0196],\n",
       " [15726466.0, 0.0196],\n",
       " [15625311.0, 0.0195],\n",
       " [15571284.0, 0.0195],\n",
       " [15662854.0, 0.0195],\n",
       " [15569917.0, 0.0194],\n",
       " [15592326.0, 0.0194],\n",
       " [15665590.0, 0.0193],\n",
       " [15779492.0, 0.0193],\n",
       " [15768777.0, 0.0193],\n",
       " [15699839.0, 0.0193],\n",
       " [15701885.0, 0.0193],\n",
       " [15792107.0, 0.0192],\n",
       " [15765257.0, 0.019],\n",
       " [15611682.0, 0.0189],\n",
       " [15728082.0, 0.0189],\n",
       " [15646594.0, 0.0189],\n",
       " [15795079.0, 0.0188],\n",
       " [15598614.0, 0.0187],\n",
       " [15644400.0, 0.0187],\n",
       " [15794204.0, 0.0186],\n",
       " [15636454.0, 0.0186],\n",
       " [15652289.0, 0.0186],\n",
       " [15707602.0, 0.0185],\n",
       " [15679622.0, 0.0185],\n",
       " [15707042.0, 0.0185],\n",
       " [15742297.0, 0.0185],\n",
       " [15708236.0, 0.0184],\n",
       " [15717629.0, 0.0184],\n",
       " [15788215.0, 0.0182],\n",
       " [15694677.0, 0.0181],\n",
       " [15592914.0, 0.0181],\n",
       " [15660144.0, 0.018],\n",
       " [15736420.0, 0.0179],\n",
       " [15568162.0, 0.0179],\n",
       " [15773421.0, 0.0178],\n",
       " [15676156.0, 0.0178],\n",
       " [15656417.0, 0.0178],\n",
       " [15636767.0, 0.0177],\n",
       " [15791769.0, 0.0177],\n",
       " [15768474.0, 0.0176],\n",
       " [15603683.0, 0.0176],\n",
       " [15683276.0, 0.0175],\n",
       " [15721504.0, 0.0175],\n",
       " [15727811.0, 0.0174],\n",
       " [15776494.0, 0.0174],\n",
       " [15571415.0, 0.0174],\n",
       " [15704509.0, 0.0174],\n",
       " [15665374.0, 0.0174],\n",
       " [15642391.0, 0.0173],\n",
       " [15735837.0, 0.0173],\n",
       " [15611794.0, 0.0173],\n",
       " [15615670.0, 0.0172],\n",
       " [15787229.0, 0.0172],\n",
       " [15648069.0, 0.0171],\n",
       " [15734008.0, 0.017],\n",
       " [15570947.0, 0.017],\n",
       " [15608688.0, 0.0169],\n",
       " [15778290.0, 0.0169],\n",
       " [15592999.0, 0.0168],\n",
       " [15672637.0, 0.0168],\n",
       " [15671987.0, 0.0168],\n",
       " [15593178.0, 0.0167],\n",
       " [15617065.0, 0.0167],\n",
       " [15615296.0, 0.0167],\n",
       " [15581871.0, 0.0167],\n",
       " [15649160.0, 0.0166],\n",
       " [15711299.0, 0.0165],\n",
       " [15791326.0, 0.0165],\n",
       " [15651868.0, 0.0165],\n",
       " [15648681.0, 0.0165],\n",
       " [15735221.0, 0.0164],\n",
       " [15646521.0, 0.0164],\n",
       " [15689781.0, 0.0163],\n",
       " [15660390.0, 0.0162],\n",
       " [15732884.0, 0.0161],\n",
       " [15778589.0, 0.016],\n",
       " [15759387.0, 0.0159],\n",
       " [15644446.0, 0.0159],\n",
       " [15706464.0, 0.0159],\n",
       " [15694666.0, 0.0157],\n",
       " [15585892.0, 0.0157],\n",
       " [15620103.0, 0.0157],\n",
       " [15730793.0, 0.0157],\n",
       " [15599535.0, 0.0156],\n",
       " [15636521.0, 0.0154],\n",
       " [15766663.0, 0.0152],\n",
       " [15609987.0, 0.0152],\n",
       " [15714087.0, 0.0152],\n",
       " [15682686.0, 0.0152],\n",
       " [15688059.0, 0.0152],\n",
       " [15572361.0, 0.0152],\n",
       " [15665014.0, 0.0151],\n",
       " [15789611.0, 0.0151],\n",
       " [15712483.0, 0.015],\n",
       " [15652667.0, 0.015],\n",
       " [15720353.0, 0.015],\n",
       " [15611973.0, 0.0149],\n",
       " [15699340.0, 0.0149],\n",
       " [15735106.0, 0.0148],\n",
       " [15686670.0, 0.0147],\n",
       " [15583680.0, 0.0146],\n",
       " [15595010.0, 0.0145],\n",
       " [15767729.0, 0.0145],\n",
       " [15815443.0, 0.0144],\n",
       " [15697844.0, 0.0144],\n",
       " [15757434.0, 0.0142],\n",
       " [15711446.0, 0.0141],\n",
       " [15593834.0, 0.0141],\n",
       " [15801473.0, 0.0139],\n",
       " [15796787.0, 0.0138],\n",
       " [15623210.0, 0.0138],\n",
       " [15627190.0, 0.0138],\n",
       " [15667460.0, 0.0137],\n",
       " [15631267.0, 0.0136],\n",
       " [15720644.0, 0.0136],\n",
       " [15689268.0, 0.0136],\n",
       " [15778345.0, 0.0135],\n",
       " [15593959.0, 0.0135],\n",
       " [15697310.0, 0.0133],\n",
       " [15643056.0, 0.0131],\n",
       " [15613699.0, 0.0131],\n",
       " [15752344.0, 0.013],\n",
       " [15678882.0, 0.0129],\n",
       " [15668679.0, 0.0129],\n",
       " [15713983.0, 0.0129],\n",
       " [15649183.0, 0.0126],\n",
       " [15750921.0, 0.0126],\n",
       " [15675176.0, 0.0125],\n",
       " [15589881.0, 0.0125],\n",
       " [15744423.0, 0.0125],\n",
       " [15716082.0, 0.0124],\n",
       " [15569394.0, 0.0123],\n",
       " [15671534.0, 0.0117],\n",
       " [15757467.0, 0.0116],\n",
       " [15657778.0, 0.0116],\n",
       " [15748432.0, 0.0116],\n",
       " [15779207.0, 0.0112],\n",
       " [15600975.0, 0.0111],\n",
       " [15611409.0, 0.0108],\n",
       " [15608916.0, 0.0108],\n",
       " [15599152.0, 0.0107],\n",
       " [15568819.0, 0.0103],\n",
       " [15803378.0, 0.0101],\n",
       " [15706762.0, 0.0101],\n",
       " [15696287.0, 0.0101],\n",
       " [15661412.0, 0.01],\n",
       " [15577515.0, 0.0095],\n",
       " [15605872.0, 0.0093],\n",
       " [15746995.0, 0.0092],\n",
       " [15777994.0, 0.0092],\n",
       " [15731989.0, 0.0088],\n",
       " [15566495.0, 0.0085],\n",
       " [15773776.0, 0.0078],\n",
       " [15728010.0, 0.0077],\n",
       " [15642098.0, 0.0076],\n",
       " [15764444.0, 0.0069],\n",
       " [15602456.0, 0.0065],\n",
       " [15723827.0, 0.0057],\n",
       " [15706394.0, 0.0056],\n",
       " [15725028.0, 0.0039],\n",
       " [15585855.0, 0.0036],\n",
       " [15654859.0, 0.0028],\n",
       " [15799785.0, 0.001],\n",
       " [15621423.0, 0.0009]]"
      ]
     },
     "execution_count": 114,
     "metadata": {},
     "output_type": "execute_result"
    }
   ],
   "source": [
    "y_pred"
   ]
  },
  {
   "cell_type": "code",
   "execution_count": 111,
   "metadata": {
    "ExecuteTime": {
     "end_time": "2018-10-31T01:26:25.908948Z",
     "start_time": "2018-10-31T01:26:25.874128Z"
    }
   },
   "outputs": [],
   "source": [
    "fr_list = [[round(i,2) for i in num] for num in frauds]"
   ]
  },
  {
   "cell_type": "code",
   "execution_count": 112,
   "metadata": {
    "ExecuteTime": {
     "end_time": "2018-10-31T01:26:29.716671Z",
     "start_time": "2018-10-31T01:26:29.694824Z"
    }
   },
   "outputs": [
    {
     "data": {
      "text/plain": [
       "56"
      ]
     },
     "execution_count": 112,
     "metadata": {},
     "output_type": "execute_result"
    }
   ],
   "source": [
    "len(fr_list)"
   ]
  },
  {
   "cell_type": "code",
   "execution_count": null,
   "metadata": {},
   "outputs": [],
   "source": []
  }
 ],
 "metadata": {
  "kernelspec": {
   "display_name": "Python 3",
   "language": "python",
   "name": "python3"
  },
  "language_info": {
   "codemirror_mode": {
    "name": "ipython",
    "version": 3
   },
   "file_extension": ".py",
   "mimetype": "text/x-python",
   "name": "python",
   "nbconvert_exporter": "python",
   "pygments_lexer": "ipython3",
   "version": "3.6.6"
  }
 },
 "nbformat": 4,
 "nbformat_minor": 2
}
