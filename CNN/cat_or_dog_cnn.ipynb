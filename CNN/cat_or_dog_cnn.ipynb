{
 "cells": [
  {
   "cell_type": "code",
   "execution_count": 25,
   "metadata": {
    "ExecuteTime": {
     "end_time": "2018-10-18T17:41:35.962528Z",
     "start_time": "2018-10-18T17:41:35.936083Z"
    }
   },
   "outputs": [],
   "source": [
    "from keras.models import Sequential\n",
    "from keras.layers import Conv2D, MaxPooling2D, Flatten, Dense\n",
    "from keras.preprocessing.image import ImageDataGenerator"
   ]
  },
  {
   "cell_type": "markdown",
   "metadata": {},
   "source": [
    "# Building CNN to train to identify between cats & dogs\n",
    "\n",
    "## Step 1: Convolution\n",
    "- Layer 1 - Conv2D Layer \n",
    "    - 32 feature detectors of 3X3\n",
    "    - Using input shape of 64X64 since we are running on CPU\n",
    "    - 3 in input shape means it is a colored image to have 3 colors (RGB)\n",
    "- Layer 3 - Conv2D Layer\n",
    "\n",
    "## Step 2: Max Pooling\n",
    "- Layer 2 - MaxPooling2D\n",
    "    - Pool size of 2X2\n",
    "    - By using 2X2 less information is lost\n",
    "    - Also, makes images smaller to make it easier for CPU to learn\n",
    "- Layer 4 - MaxPooling2D\n",
    "\n",
    "## Step 3: Flattening\n",
    "- Layer 5 - Flatten\n",
    "    - Flatten images to a 1D vector\n",
    "    - No need to specify any parameters. Keras knows...\n",
    "\n",
    "## Step 4: Full Connection\n",
    "- Layer 6 - Dense\n",
    "    - First hidden layer\n",
    "    - 128 nodes. Use power of 2 around 100.\n",
    "    - ReLU for activation\n",
    "- Layer 7 - Dense\n",
    "    - This is the output layer\n",
    "    - Since it is only between Cat and Dog (Binary) use Sigmoid\n",
    "    - If you are identifying between more than 2, use Softmax\n",
    "- __COMPILE IT!!!__\n",
    "    - Using Adam optimizer for the first run\n",
    "    - Using Binary Cross-Entropy measure loss since it has only two outcomes\n",
    "    - Using Accuracy for metrics "
   ]
  },
  {
   "cell_type": "code",
   "execution_count": 33,
   "metadata": {
    "ExecuteTime": {
     "end_time": "2018-10-18T17:59:57.210591Z",
     "start_time": "2018-10-18T17:59:57.186732Z"
    }
   },
   "outputs": [],
   "source": [
    "def build_classifier():\n",
    "    classifier = Sequential()\n",
    "    classifier.add(Conv2D(32, (3, 3), input_shape=(64, 64, 3), \n",
    "                          activation='relu'))\n",
    "    classifier.add(MaxPooling2D(pool_size=(2, 2)))\n",
    "    classifier.add(Conv2D(32, (3, 3), activation='relu'))\n",
    "    classifier.add(MaxPooling2D(pool_size=(2, 2)))\n",
    "    classifier.add(Flatten())\n",
    "    classifier.add(Dense(units=128, activation='relu'))\n",
    "    classifier.add(Dense(units=1, activation='sigmoid'))\n",
    "    classifier.compile(\n",
    "        optimizer='adam', loss='binary_crossentropy', \n",
    "        metrics=['accuracy'])\n",
    "    return classifier"
   ]
  },
  {
   "cell_type": "code",
   "execution_count": 34,
   "metadata": {
    "ExecuteTime": {
     "end_time": "2018-10-18T17:59:57.781957Z",
     "start_time": "2018-10-18T17:59:57.688595Z"
    }
   },
   "outputs": [],
   "source": [
    "classifier = build_classifier()"
   ]
  },
  {
   "cell_type": "markdown",
   "metadata": {},
   "source": [
    "## Image Augmentation\n",
    "### ImageDataGenerator:\n",
    "- Rescale: Randomly scale images between 0.00 and 1.00\n",
    "- Shear Range: Randomly shear images between 0.00 and 0.20\n",
    "- Zoom Range: Apply random zoom between 0.00 and 0.20\n",
    "- Horizontal Flip: Make all images horizontal\n",
    "\n",
    "__This is used to avoid over-fitting__\n",
    "__Also, this will rescale all images, make sure they are all straight, and filter it out to make sure it is well understood__"
   ]
  },
  {
   "cell_type": "code",
   "execution_count": 35,
   "metadata": {
    "ExecuteTime": {
     "end_time": "2018-10-18T17:59:58.513083Z",
     "start_time": "2018-10-18T17:59:58.492691Z"
    }
   },
   "outputs": [],
   "source": [
    "train_datagen = ImageDataGenerator(\n",
    "    rescale=1./255, shear_range=0.2, zoom_range=0.2, horizontal_flip=True)"
   ]
  },
  {
   "cell_type": "markdown",
   "metadata": {},
   "source": []
  },
  {
   "cell_type": "code",
   "execution_count": 36,
   "metadata": {
    "ExecuteTime": {
     "end_time": "2018-10-18T17:59:59.085551Z",
     "start_time": "2018-10-18T17:59:59.057396Z"
    }
   },
   "outputs": [],
   "source": [
    "test_datagen = ImageDataGenerator(rescale=1./255)"
   ]
  },
  {
   "cell_type": "markdown",
   "metadata": {},
   "source": [
    "## Training Dataset\n",
    "### Flow from directory:\n",
    "- Since all images are correctly labeled in its folder\n",
    "- Target size remains same 64X64\n",
    "- Batch size of 32\n",
    "- Class mode is Binary, since it is between only cat and dog (2 possible outcomes)"
   ]
  },
  {
   "cell_type": "code",
   "execution_count": 37,
   "metadata": {
    "ExecuteTime": {
     "end_time": "2018-10-18T17:59:59.565741Z",
     "start_time": "2018-10-18T17:59:59.314742Z"
    }
   },
   "outputs": [
    {
     "name": "stdout",
     "output_type": "stream",
     "text": [
      "Found 8000 images belonging to 2 classes.\n"
     ]
    }
   ],
   "source": [
    "training_set = train_datagen.flow_from_directory(\n",
    "    './data/training_set',  target_size=(64, 64), batch_size=32, class_mode='binary')"
   ]
  },
  {
   "cell_type": "markdown",
   "metadata": {},
   "source": [
    "## Testing Dataset\n",
    "### Flow from directory:\n",
    "- Since all images are correctly labeled in its folder\n",
    "- Target size remains same 64X64\n",
    "- Batch size of 32\n",
    "- Class mode is Binary, since it is between only cat and dog (2 possible outcomes)"
   ]
  },
  {
   "cell_type": "code",
   "execution_count": 38,
   "metadata": {
    "ExecuteTime": {
     "end_time": "2018-10-18T17:59:59.950352Z",
     "start_time": "2018-10-18T17:59:59.826740Z"
    }
   },
   "outputs": [
    {
     "name": "stdout",
     "output_type": "stream",
     "text": [
      "Found 2000 images belonging to 2 classes.\n"
     ]
    }
   ],
   "source": [
    "test_set = test_datagen.flow_from_directory(\n",
    "    './data/test_set', target_size=(64, 64), batch_size=32, class_mode='binary')"
   ]
  },
  {
   "cell_type": "markdown",
   "metadata": {},
   "source": []
  },
  {
   "cell_type": "code",
   "execution_count": 41,
   "metadata": {
    "ExecuteTime": {
     "end_time": "2018-10-18T18:23:26.393990Z",
     "start_time": "2018-10-18T18:01:45.116582Z"
    }
   },
   "outputs": [
    {
     "name": "stdout",
     "output_type": "stream",
     "text": [
      "Epoch 1/1\n",
      "8000/8000 [==============================] - 1301s 163ms/step - loss: 0.3170 - acc: 0.8555 - val_loss: 0.6416 - val_acc: 0.8011\n"
     ]
    },
    {
     "data": {
      "text/plain": [
       "<keras.callbacks.History at 0x7f2da154dda0>"
      ]
     },
     "execution_count": 41,
     "metadata": {},
     "output_type": "execute_result"
    }
   ],
   "source": [
    "classifier.fit_generator(\n",
    "    training_set, steps_per_epoch=8000, epochs=1, validation_data=test_set, validation_steps=2000, use_multiprocessing=True)"
   ]
  },
  {
   "cell_type": "code",
   "execution_count": null,
   "metadata": {
    "ExecuteTime": {
     "end_time": "2018-10-18T18:29:56.981243Z",
     "start_time": "2018-10-18T18:29:45.825Z"
    }
   },
   "outputs": [],
   "source": [
    "classifier.fit_generator(\n",
    "    training_set, steps_per_epoch=8000, epochs=1, validation_data=test_set, validation_steps=2000, workers=8)"
   ]
  },
  {
   "cell_type": "code",
   "execution_count": null,
   "metadata": {},
   "outputs": [],
   "source": []
  }
 ],
 "metadata": {
  "kernelspec": {
   "display_name": "Python 3",
   "language": "python",
   "name": "python3"
  },
  "language_info": {
   "codemirror_mode": {
    "name": "ipython",
    "version": 3
   },
   "file_extension": ".py",
   "mimetype": "text/x-python",
   "name": "python",
   "nbconvert_exporter": "python",
   "pygments_lexer": "ipython3",
   "version": "3.6.6"
  }
 },
 "nbformat": 4,
 "nbformat_minor": 2
}
